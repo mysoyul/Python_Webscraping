{
 "cells": [
  {
   "cell_type": "markdown",
   "id": "e189201a",
   "metadata": {},
   "source": [
    "### 날씨 데이터 파싱\n",
    "* [기상청날씨데이터](http://www.kma.go.kr/weather/forecast/mid-term-rss3.jsp)\n",
    "* 파싱한 데이터를 dict, list 자료구조에 저장\n",
    "* 자료구조의 데이터를 json 파일로 저장\n",
    "* BeautifulSoup 의 find(), find_all(), select(), select_one() 함수 비교"
   ]
  },
  {
   "cell_type": "code",
   "execution_count": 1,
   "id": "85ac3729",
   "metadata": {},
   "outputs": [
    {
     "name": "stdout",
     "output_type": "stream",
     "text": [
      "Name: lxml\n",
      "Version: 4.9.1\n",
      "Summary: Powerful and Pythonic XML processing library combining libxml2/libxslt with the ElementTree API.\n",
      "Home-page: https://lxml.de/\n",
      "Author: lxml dev team\n",
      "Author-email: lxml-dev@lxml.de\n",
      "License: BSD\n",
      "Location: c:\\users\\vega2\\anaconda3\\lib\\site-packages\n",
      "Requires: \n",
      "Required-by: nbconvert, parsel, Scrapy\n"
     ]
    }
   ],
   "source": [
    "!pip3 show lxml"
   ]
  },
  {
   "cell_type": "code",
   "execution_count": 4,
   "id": "e26ac35c",
   "metadata": {},
   "outputs": [
    {
     "name": "stdout",
     "output_type": "stream",
     "text": [
      "200\n",
      "<class 'bs4.element.Tag'> <title>기상청 육상 중기예보</title>\n",
      "<class 'bs4.element.ResultSet'> [<title>기상청 육상 중기예보</title>, <title>전국 육상 중기예보 - 2023년 06월 12일 (월)요일 06:00 발표</title>, <title>전국 육상중기예보</title>]\n",
      "==find()  <class 'bs4.element.Tag'>\n",
      "==select_one()  <class 'bs4.element.Tag'>\n",
      "==find_all()  <class 'bs4.element.ResultSet'>\n",
      "==select()  <class 'bs4.element.ResultSet'>\n"
     ]
    }
   ],
   "source": [
    "import requests\n",
    "from bs4 import BeautifulSoup\n",
    "\n",
    "url = 'http://www.kma.go.kr/weather/forecast/mid-term-rss3.jsp'\n",
    "\n",
    "res = requests.get(url)\n",
    "print(res.status_code)\n",
    "\n",
    "if res.ok:\n",
    "    soup = BeautifulSoup(res.text, features=\"xml\")\n",
    "    \n",
    "    title_tag = soup.find('title')\n",
    "    print(type(title_tag), title_tag)\n",
    "    \n",
    "    title_all_tag = soup.find_all('title')\n",
    "    print(type(title_all_tag), title_all_tag)\n",
    "    \n",
    "    location_tag = soup.find('location', attrs={'wl_ver':3})\n",
    "    print('==find() ', type(location_tag))\n",
    "\n",
    "    location_tag2 = soup.select_one(\"location[wl_ver='3']\")\n",
    "    print('==select_one() ',type(location_tag2))\n",
    "\n",
    "    loc_tag_all = soup.findAll('location', attrs={'wl_ver':3})\n",
    "    print('==find_all() ', type(loc_tag_all))\n",
    "\n",
    "    loc_tag_all2 = soup.select(\"location[wl_ver='3']\")\n",
    "    print('==select() ', type(loc_tag_all2))"
   ]
  },
  {
   "cell_type": "code",
   "execution_count": null,
   "id": "85fbb0b1",
   "metadata": {},
   "outputs": [],
   "source": [
    "'''\n",
    "<location wl_ver=\"3\">\n",
    "    <province>서울ㆍ인천ㆍ경기도</province>\n",
    "    <city>서울</city>\n",
    "    <data>\n",
    "        <mode>A02</mode>\n",
    "        <tmEf>2022-08-28 00:00</tmEf>\n",
    "        <wf>맑음</wf>\n",
    "        <tmn>18</tmn>\n",
    "        <tmx>28</tmx>\n",
    "        <reliability/>\n",
    "        <rnSt>0</rnSt>\n",
    "    </data>\n",
    "    <data>\n",
    "        <mode>A02</mode>\n",
    "        <tmEf>2022-08-28 12:00</tmEf>\n",
    "        <wf>구름많음</wf>\n",
    "        <tmn>18</tmn>\n",
    "        <tmx>28</tmx>\n",
    "        <reliability/>\n",
    "        <rnSt>30</rnSt>\n",
    "    </data>\n",
    "</location>\n",
    "{\n",
    "  \"province\":\"서울ㆍ인천ㆍ경기도\",\n",
    "   \"city\":\"서울\",\n",
    "   \"datas\":[{\"mode:\"A02”,\"tmEf”:\"2022-01-31 00:00”,\"wf\":\"맑음\"},\n",
    "            {\"mode:\"A02”,\"tmEf”:\"2022-01-31 12:00”,\"wf\":\"구름많음\"},{},{}]\n",
    "}\n",
    "'''"
   ]
  },
  {
   "cell_type": "code",
   "execution_count": null,
   "id": "b243067b",
   "metadata": {},
   "outputs": [],
   "source": []
  },
  {
   "cell_type": "markdown",
   "id": "7c4e0ce9",
   "metadata": {},
   "source": [
    "#### 서울(City)의 날씨 데이터 파싱"
   ]
  },
  {
   "cell_type": "code",
   "execution_count": 5,
   "id": "f6395c39",
   "metadata": {},
   "outputs": [
    {
     "name": "stdout",
     "output_type": "stream",
     "text": [
      "{'province': '서울ㆍ인천ㆍ경기도', 'city': '서울', 'datas': [{'mode': 'A02', 'tmEf': '2023-06-15 00:00', 'wf': '구름많음', 'tmn': '19', 'tmx': '29'}, {'mode': 'A02', 'tmEf': '2023-06-15 12:00', 'wf': '맑음', 'tmn': '19', 'tmx': '29'}, {'mode': 'A02', 'tmEf': '2023-06-16 00:00', 'wf': '맑음', 'tmn': '20', 'tmx': '29'}, {'mode': 'A02', 'tmEf': '2023-06-16 12:00', 'wf': '맑음', 'tmn': '20', 'tmx': '29'}, {'mode': 'A02', 'tmEf': '2023-06-17 00:00', 'wf': '구름많음', 'tmn': '20', 'tmx': '29'}, {'mode': 'A02', 'tmEf': '2023-06-17 12:00', 'wf': '맑음', 'tmn': '20', 'tmx': '29'}, {'mode': 'A02', 'tmEf': '2023-06-18 00:00', 'wf': '구름많음', 'tmn': '21', 'tmx': '31'}, {'mode': 'A02', 'tmEf': '2023-06-18 12:00', 'wf': '맑음', 'tmn': '21', 'tmx': '31'}, {'mode': 'A02', 'tmEf': '2023-06-19 00:00', 'wf': '구름많음', 'tmn': '22', 'tmx': '31'}, {'mode': 'A02', 'tmEf': '2023-06-19 12:00', 'wf': '구름많음', 'tmn': '22', 'tmx': '31'}, {'mode': 'A01', 'tmEf': '2023-06-20 00:00', 'wf': '흐림', 'tmn': '21', 'tmx': '29'}, {'mode': 'A01', 'tmEf': '2023-06-21 00:00', 'wf': '흐림', 'tmn': '21', 'tmx': '27'}, {'mode': 'A01', 'tmEf': '2023-06-22 00:00', 'wf': '구름많음', 'tmn': '21', 'tmx': '28'}]}\n"
     ]
    }
   ],
   "source": [
    "import requests\n",
    "from bs4 import BeautifulSoup\n",
    "\n",
    "url = 'http://www.kma.go.kr/weather/forecast/mid-term-rss3.jsp'\n",
    "\n",
    "res = requests.get(url)\n",
    "if res.ok:\n",
    "    soup = BeautifulSoup(res.text, features=\"xml\")\n",
    "    location_tag = soup.find('location', attrs={'wl_ver':3})\n",
    "    location_dict = {} #dict()\n",
    "    \n",
    "    # \"province\":\"서울ㆍ인천ㆍ경기도\"\n",
    "    location_dict['province'] = location_tag.find('province').text\n",
    "    # 서울\n",
    "    location_dict['city'] = location_tag.find('city').text\n",
    "\n",
    "    data_tags = location_tag.find_all('data')\n",
    "    data_list = []\n",
    "    for data_tag in data_tags:\n",
    "        data_dict = {}\n",
    "        # {\"mode:\"A02\",\"tmEf\":\"2022-01-31 00:00\",\"wf\":\"맑음\"}\n",
    "        data_dict['mode'] = data_tag.find('mode').text\n",
    "        data_dict['tmEf'] = data_tag.find('tmEf').text\n",
    "        data_dict['wf'] = data_tag.find('wf').text\n",
    "        data_dict['tmn'] = data_tag.find('tmn').text\n",
    "        data_dict['tmx'] = data_tag.find('tmx').text\n",
    "        data_list.append(data_dict)\n",
    "\n",
    "    location_dict['datas'] = data_list\n",
    "    print(location_dict)"
   ]
  },
  {
   "cell_type": "markdown",
   "id": "d1f88afb-08a2-4cc5-8328-c8860d3642e1",
   "metadata": {},
   "source": [
    "#### 전국의 날씨 데이터 파싱"
   ]
  },
  {
   "cell_type": "code",
   "execution_count": 9,
   "id": "8e130a77-115c-446e-9904-6a199232bab0",
   "metadata": {},
   "outputs": [
    {
     "name": "stdout",
     "output_type": "stream",
     "text": [
      "41\n",
      "41\n",
      "[{'province': '서울ㆍ인천ㆍ경기도', 'city': '서울', 'datas': [{'mode': 'A02', 'tmEf': '2023-06-15 00:00', 'wf': '구름많음', 'tmn': '19', 'tmx': '29'}, {'mode': 'A02', 'tmEf': '2023-06-15 12:00', 'wf': '맑음', 'tmn': '19', 'tmx': '29'}, {'mode': 'A02', 'tmEf': '2023-06-16 00:00', 'wf': '맑음', 'tmn': '20', 'tmx': '29'}, {'mode': 'A02', 'tmEf': '2023-06-16 12:00', 'wf': '맑음', 'tmn': '20', 'tmx': '29'}, {'mode': 'A02', 'tmEf': '2023-06-17 00:00', 'wf': '구름많음', 'tmn': '20', 'tmx': '29'}, {'mode': 'A02', 'tmEf': '2023-06-17 12:00', 'wf': '맑음', 'tmn': '20', 'tmx': '29'}, {'mode': 'A02', 'tmEf': '2023-06-18 00:00', 'wf': '구름많음', 'tmn': '21', 'tmx': '31'}, {'mode': 'A02', 'tmEf': '2023-06-18 12:00', 'wf': '맑음', 'tmn': '21', 'tmx': '31'}, {'mode': 'A02', 'tmEf': '2023-06-19 00:00', 'wf': '구름많음', 'tmn': '22', 'tmx': '31'}, {'mode': 'A02', 'tmEf': '2023-06-19 12:00', 'wf': '구름많음', 'tmn': '22', 'tmx': '31'}, {'mode': 'A01', 'tmEf': '2023-06-20 00:00', 'wf': '흐림', 'tmn': '21', 'tmx': '29'}, {'mode': 'A01', 'tmEf': '2023-06-21 00:00', 'wf': '흐림', 'tmn': '21', 'tmx': '27'}, {'mode': 'A01', 'tmEf': '2023-06-22 00:00', 'wf': '구름많음', 'tmn': '21', 'tmx': '28'}]}, {'province': '서울ㆍ인천ㆍ경기도', 'city': '인천', 'datas': [{'mode': 'A02', 'tmEf': '2023-06-15 00:00', 'wf': '구름많음', 'tmn': '18', 'tmx': '25'}, {'mode': 'A02', 'tmEf': '2023-06-15 12:00', 'wf': '맑음', 'tmn': '18', 'tmx': '25'}, {'mode': 'A02', 'tmEf': '2023-06-16 00:00', 'wf': '맑음', 'tmn': '19', 'tmx': '26'}, {'mode': 'A02', 'tmEf': '2023-06-16 12:00', 'wf': '맑음', 'tmn': '19', 'tmx': '26'}, {'mode': 'A02', 'tmEf': '2023-06-17 00:00', 'wf': '구름많음', 'tmn': '19', 'tmx': '26'}, {'mode': 'A02', 'tmEf': '2023-06-17 12:00', 'wf': '맑음', 'tmn': '19', 'tmx': '26'}, {'mode': 'A02', 'tmEf': '2023-06-18 00:00', 'wf': '구름많음', 'tmn': '20', 'tmx': '27'}, {'mode': 'A02', 'tmEf': '2023-06-18 12:00', 'wf': '맑음', 'tmn': '20', 'tmx': '27'}, {'mode': 'A02', 'tmEf': '2023-06-19 00:00', 'wf': '구름많음', 'tmn': '21', 'tmx': '27'}, {'mode': 'A02', 'tmEf': '2023-06-19 12:00', 'wf': '구름많음', 'tmn': '21', 'tmx': '27'}, {'mode': 'A01', 'tmEf': '2023-06-20 00:00', 'wf': '흐림', 'tmn': '20', 'tmx': '26'}, {'mode': 'A01', 'tmEf': '2023-06-21 00:00', 'wf': '흐림', 'tmn': '20', 'tmx': '25'}, {'mode': 'A01', 'tmEf': '2023-06-22 00:00', 'wf': '구름많음', 'tmn': '20', 'tmx': '26'}]}]\n"
     ]
    }
   ],
   "source": [
    "import requests\n",
    "from bs4 import BeautifulSoup\n",
    "\n",
    "url = 'http://www.kma.go.kr/weather/forecast/mid-term-rss3.jsp'\n",
    "\n",
    "res = requests.get(url)\n",
    "if res.ok:\n",
    "    soup = BeautifulSoup(res.text, features=\"xml\")\n",
    "    location_tags = soup.find_all('location', attrs={'wl_ver':3})\n",
    "    print(len(location_tags))\n",
    "    location_list = list()\n",
    "    \n",
    "    for location_tag in location_tags:    \n",
    "        location_dict = {} #dict()\n",
    "\n",
    "        # \"province\":\"서울ㆍ인천ㆍ경기도\"\n",
    "        location_dict['province'] = location_tag.find('province').text\n",
    "        # 서울\n",
    "        location_dict['city'] = location_tag.find('city').text\n",
    "\n",
    "        data_tags = location_tag.find_all('data')\n",
    "        data_list = []\n",
    "        for data_tag in data_tags:\n",
    "            data_dict = {}\n",
    "            # {\"mode:\"A02\",\"tmEf\":\"2022-01-31 00:00\",\"wf\":\"맑음\"}\n",
    "            data_dict['mode'] = data_tag.find('mode').text\n",
    "            data_dict['tmEf'] = data_tag.find('tmEf').text\n",
    "            data_dict['wf'] = data_tag.find('wf').text\n",
    "            data_dict['tmn'] = data_tag.find('tmn').text\n",
    "            data_dict['tmx'] = data_tag.find('tmx').text\n",
    "            data_list.append(data_dict)\n",
    "\n",
    "        location_dict['datas'] = data_list\n",
    "        \n",
    "        location_list.append(location_dict)\n",
    "        \n",
    "print(location_list[0:2])"
   ]
  },
  {
   "cell_type": "code",
   "execution_count": 11,
   "id": "735da9a4",
   "metadata": {},
   "outputs": [],
   "source": [
    "import warnings\n",
    "warnings.filterwarnings('ignore')"
   ]
  },
  {
   "cell_type": "markdown",
   "id": "8bf43b03",
   "metadata": {},
   "source": [
    "#### weather.json 파일로 저장하기"
   ]
  },
  {
   "cell_type": "code",
   "execution_count": 11,
   "id": "3e8db404",
   "metadata": {},
   "outputs": [],
   "source": [
    "import json\n",
    "\n",
    "with open('data/weather.json','w',encoding='utf-8') as file:\n",
    "    json.dump(location_list, file)"
   ]
  },
  {
   "cell_type": "code",
   "execution_count": 14,
   "id": "27952eba-9cf6-4094-b4ed-b97f10320b39",
   "metadata": {},
   "outputs": [],
   "source": [
    "import json\n",
    "\n",
    "with open('data/weather.json','r',encoding='utf-8') as file:\n",
    "    json_data = json.load(file)\n",
    "\n",
    "#json_data    "
   ]
  },
  {
   "cell_type": "code",
   "execution_count": 15,
   "id": "e92adbd0-3e9a-4dbc-ae52-7c8e8028bf1d",
   "metadata": {},
   "outputs": [
    {
     "ename": "TypeError",
     "evalue": "the JSON object must be str, bytes or bytearray, not list",
     "output_type": "error",
     "traceback": [
      "\u001b[1;31m---------------------------------------------------------------------------\u001b[0m",
      "\u001b[1;31mTypeError\u001b[0m                                 Traceback (most recent call last)",
      "Cell \u001b[1;32mIn[15], line 1\u001b[0m\n\u001b[1;32m----> 1\u001b[0m json_data2 \u001b[38;5;241m=\u001b[39m \u001b[43mjson\u001b[49m\u001b[38;5;241;43m.\u001b[39;49m\u001b[43mloads\u001b[49m\u001b[43m(\u001b[49m\u001b[43mlocation_list\u001b[49m\u001b[43m)\u001b[49m\n\u001b[0;32m      2\u001b[0m json_data2\n",
      "File \u001b[1;32m~\\anaconda3\\lib\\json\\__init__.py:339\u001b[0m, in \u001b[0;36mloads\u001b[1;34m(s, cls, object_hook, parse_float, parse_int, parse_constant, object_pairs_hook, **kw)\u001b[0m\n\u001b[0;32m    337\u001b[0m \u001b[38;5;28;01melse\u001b[39;00m:\n\u001b[0;32m    338\u001b[0m     \u001b[38;5;28;01mif\u001b[39;00m \u001b[38;5;129;01mnot\u001b[39;00m \u001b[38;5;28misinstance\u001b[39m(s, (\u001b[38;5;28mbytes\u001b[39m, \u001b[38;5;28mbytearray\u001b[39m)):\n\u001b[1;32m--> 339\u001b[0m         \u001b[38;5;28;01mraise\u001b[39;00m \u001b[38;5;167;01mTypeError\u001b[39;00m(\u001b[38;5;124mf\u001b[39m\u001b[38;5;124m'\u001b[39m\u001b[38;5;124mthe JSON object must be str, bytes or bytearray, \u001b[39m\u001b[38;5;124m'\u001b[39m\n\u001b[0;32m    340\u001b[0m                         \u001b[38;5;124mf\u001b[39m\u001b[38;5;124m'\u001b[39m\u001b[38;5;124mnot \u001b[39m\u001b[38;5;132;01m{\u001b[39;00ms\u001b[38;5;241m.\u001b[39m\u001b[38;5;18m__class__\u001b[39m\u001b[38;5;241m.\u001b[39m\u001b[38;5;18m__name__\u001b[39m\u001b[38;5;132;01m}\u001b[39;00m\u001b[38;5;124m'\u001b[39m)\n\u001b[0;32m    341\u001b[0m     s \u001b[38;5;241m=\u001b[39m s\u001b[38;5;241m.\u001b[39mdecode(detect_encoding(s), \u001b[38;5;124m'\u001b[39m\u001b[38;5;124msurrogatepass\u001b[39m\u001b[38;5;124m'\u001b[39m)\n\u001b[0;32m    343\u001b[0m \u001b[38;5;28;01mif\u001b[39;00m (\u001b[38;5;28mcls\u001b[39m \u001b[38;5;129;01mis\u001b[39;00m \u001b[38;5;28;01mNone\u001b[39;00m \u001b[38;5;129;01mand\u001b[39;00m object_hook \u001b[38;5;129;01mis\u001b[39;00m \u001b[38;5;28;01mNone\u001b[39;00m \u001b[38;5;129;01mand\u001b[39;00m\n\u001b[0;32m    344\u001b[0m         parse_int \u001b[38;5;129;01mis\u001b[39;00m \u001b[38;5;28;01mNone\u001b[39;00m \u001b[38;5;129;01mand\u001b[39;00m parse_float \u001b[38;5;129;01mis\u001b[39;00m \u001b[38;5;28;01mNone\u001b[39;00m \u001b[38;5;129;01mand\u001b[39;00m\n\u001b[0;32m    345\u001b[0m         parse_constant \u001b[38;5;129;01mis\u001b[39;00m \u001b[38;5;28;01mNone\u001b[39;00m \u001b[38;5;129;01mand\u001b[39;00m object_pairs_hook \u001b[38;5;129;01mis\u001b[39;00m \u001b[38;5;28;01mNone\u001b[39;00m \u001b[38;5;129;01mand\u001b[39;00m \u001b[38;5;129;01mnot\u001b[39;00m kw):\n",
      "\u001b[1;31mTypeError\u001b[0m: the JSON object must be str, bytes or bytearray, not list"
     ]
    }
   ],
   "source": []
  }
 ],
 "metadata": {
  "kernelspec": {
   "display_name": "Python 3 (ipykernel)",
   "language": "python",
   "name": "python3"
  },
  "language_info": {
   "codemirror_mode": {
    "name": "ipython",
    "version": 3
   },
   "file_extension": ".py",
   "mimetype": "text/x-python",
   "name": "python",
   "nbconvert_exporter": "python",
   "pygments_lexer": "ipython3",
   "version": "3.10.9"
  }
 },
 "nbformat": 4,
 "nbformat_minor": 5
}
