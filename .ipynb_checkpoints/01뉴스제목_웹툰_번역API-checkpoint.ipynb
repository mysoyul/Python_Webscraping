{
 "cells": [
  {
   "cell_type": "markdown",
   "id": "eb0bfa44",
   "metadata": {},
   "source": [
    "## 1. 뉴스제목 가져오기\n",
    "* user-agent 요청헤더를 반드시 설정해야 한다."
   ]
  },
  {
   "cell_type": "code",
   "execution_count": 1,
   "id": "f0d27781",
   "metadata": {},
   "outputs": [
    {
     "name": "stdout",
     "output_type": "stream",
     "text": [
      "Name: requests\n",
      "Version: 2.28.1\n",
      "Summary: Python HTTP for Humans.\n",
      "Home-page: https://requests.readthedocs.io\n",
      "Author: Kenneth Reitz\n",
      "Author-email: me@kennethreitz.org\n",
      "License: Apache 2.0\n",
      "Location: c:\\users\\vega2\\anaconda3\\lib\\site-packages\n",
      "Requires: certifi, charset-normalizer, idna, urllib3\n",
      "Required-by: anaconda-client, anaconda-project, conda, conda-build, conda-repo-cli, conda_package_streaming, cookiecutter, datashader, huggingface-hub, jupyterlab_server, panel, pooch, requests-file, requests-toolbelt, Sphinx, tldextract, transformers\n"
     ]
    }
   ],
   "source": [
    "!pip show requests"
   ]
  },
  {
   "cell_type": "code",
   "execution_count": 39,
   "id": "bf80a429",
   "metadata": {},
   "outputs": [],
   "source": [
    "import requests\n",
    "import bs4\n",
    "from bs4 import BeautifulSoup"
   ]
  },
  {
   "cell_type": "code",
   "execution_count": 3,
   "id": "9788d6ac",
   "metadata": {},
   "outputs": [
    {
     "name": "stdout",
     "output_type": "stream",
     "text": [
      "request ver  2.28.1\n",
      "beautifulsoup  4.11.1\n"
     ]
    }
   ],
   "source": [
    "print('request ver ' , requests.__version__)\n",
    "print('beautifulsoup ', bs4.__version__)"
   ]
  },
  {
   "cell_type": "code",
   "execution_count": 42,
   "id": "94c12fd6",
   "metadata": {},
   "outputs": [
    {
     "name": "stdout",
     "output_type": "stream",
     "text": [
      "200\n",
      "True\n",
      "8\n",
      "KT, 유럽 스타트업 박람회 '비바텍' 참여 https://n.news.naver.com/mnews/article/277/0005271143?sid=105\n",
      "LGU+, AI로 현대엘리베이터 승강기 안전 강화 https://n.news.naver.com/mnews/article/092/0002294985?sid=105\n",
      "‘챗GPT’ 올트먼 “AI 위험 줄이려면 미-중 협력해야” https://n.news.naver.com/mnews/article/056/0011502206?sid=105\n",
      "카카오게임즈, ‘우마무스메’ 첫 단독 오프라인 행사 성료... 2000여명 현장 방문 https://n.news.naver.com/mnews/article/030/0003107003?sid=105\n",
      "영림원소프트랩, '공공부문 SW어워드' 수상 https://n.news.naver.com/mnews/article/092/0002294984?sid=105\n",
      "스마일게이트 메타휴먼 한유아, 수다집 공개 https://n.news.naver.com/mnews/article/029/0002806083?sid=105\n",
      "P2E 로비설로 게임업계 풍비박산…“게임산업 타격 불가피” https://n.news.naver.com/mnews/article/032/0003229211?sid=105\n",
      "“병충해 공격에도 끄떡없는 작물 나온다” https://n.news.naver.com/mnews/article/016/0002155039?sid=105\n"
     ]
    }
   ],
   "source": [
    "# IT/과학 뉴스\n",
    "url = 'https://news.naver.com/main/main.naver'  #https://news.naver.com/main/main.naver?mode=LSD&mid=shm&sid1=103\n",
    "# 요청 Parameter\n",
    "req_param = {\n",
    "    'mode':'LSD',\n",
    "    'mid':'shm',\n",
    "    'sid1':'105'\n",
    "}\n",
    "# 요청 헤더 설정 : 브라우저 정보\n",
    "req_header = {\n",
    "    'user-agent': 'Mozilla/5.0 (Windows NT 10.0; Win64; x64) AppleWebKit/537.36 (KHTML, like Gecko) Chrome/104.0.0.0 Safari/537.36'\n",
    "}\n",
    "res = requests.get(url, params=req_param, headers=req_header)\n",
    "print(res.status_code)\n",
    "print(res.ok)\n",
    "#print('요청 header', res.request.headers)\n",
    "#print('응답 header', res.headers)\n",
    "if res.ok:\n",
    "    html = res.text #소스보기 텍스트 추출\n",
    "    soup = BeautifulSoup(html, 'html.parser')\n",
    "    '''\n",
    "    <div class=\"sh_text\"> div.sh_text\n",
    "    <a href=\"https://n.news.naver.com/mnews/article/\"> a[href*='n.news.naver.com/mnews/article']\n",
    "    '''\n",
    "    print(len(soup.select(\"div.sh_text a[href*='n.news.naver.com/mnews/article']\")))\n",
    "    a_tags = soup.select(\"div.sh_text a[href*='n.news.naver.com/mnews/article']\")\n",
    "    for a_tag in a_tags:\n",
    "        #print(a_tag)\n",
    "        title = a_tag.text.strip()\n",
    "        link = a_tag['href']\n",
    "        print(title, link)"
   ]
  },
  {
   "cell_type": "code",
   "execution_count": 46,
   "id": "8372d0db-4ff8-4943-8140-be8145f74887",
   "metadata": {},
   "outputs": [
    {
     "name": "stdout",
     "output_type": "stream",
     "text": [
      "정치\n"
     ]
    }
   ],
   "source": [
    "section_dict = {100:'정치',101:'경제',102:'사회',103:'생활/문화',104:'세계',105:'IT/과학'}\n",
    "print(section_dict[100])\n",
    "#https://news.naver.com/main/main.naver?mode=LSD&mid=shm&sid1=103\n",
    "#print_news(102,section_dict[102])"
   ]
  },
  {
   "cell_type": "code",
   "execution_count": 44,
   "id": "3c867bb3-5125-44d1-b07b-66e8d2abee4e",
   "metadata": {},
   "outputs": [],
   "source": [
    "import requests\n",
    "import bs4\n",
    "from bs4 import BeautifulSoup\n",
    "\n",
    "def print_news(sid, section):    \n",
    "    # IT/과학 뉴스\n",
    "    url = 'https://news.naver.com/main/main.naver'  #https://news.naver.com/main/main.naver?mode=LSD&mid=shm&sid1=103\n",
    "    print(f'======> {section} 뉴스 <======')\n",
    "    # 요청 Parameter\n",
    "    req_param = {\n",
    "        'mode':'LSD',\n",
    "        'mid':'shm',\n",
    "        'sid1':sid\n",
    "    }\n",
    "    # 요청 헤더 설정 : 브라우저 정보\n",
    "    req_header = {\n",
    "        'user-agent': 'Mozilla/5.0 (Windows NT 10.0; Win64; x64) AppleWebKit/537.36 (KHTML, like Gecko) Chrome/104.0.0.0 Safari/537.36'\n",
    "    }\n",
    "    res = requests.get(url, params=req_param, headers=req_header)\n",
    "    print(res.status_code)\n",
    "    print(res.ok)\n",
    "    #print('요청 header', res.request.headers)\n",
    "    #print('응답 header', res.headers)\n",
    "    if res.ok:\n",
    "        html = res.text #소스보기 텍스트 추출\n",
    "        soup = BeautifulSoup(html, 'html.parser')\n",
    "        print(len(soup.select(\"a[href*='n.news.naver.com/mnews/article']\")))\n",
    "        a_tags = soup.select(\"a[href*='n.news.naver.com/mnews/article']\")\n",
    "        for a_tag in a_tags:\n",
    "            #print(a_tag)\n",
    "            title = a_tag.text.strip()\n",
    "            link = a_tag['href']\n",
    "            print(title, link)"
   ]
  },
  {
   "cell_type": "markdown",
   "id": "323196dc",
   "metadata": {},
   "source": [
    "### 2. Image 다운로드\n",
    "* referer 요청 헤더를 반드시 설정해야 한다."
   ]
  },
  {
   "cell_type": "code",
   "execution_count": 47,
   "id": "c72d6cb1",
   "metadata": {},
   "outputs": [
    {
     "name": "stdout",
     "output_type": "stream",
     "text": [
      "20230512143706_1227aafec443e105a6ef38b7124ccbb4_IMAG01_1.jpg\n",
      " writing to 20230512143706_1227aafec443e105a6ef38b7124ccbb4_IMAG01_1.jpg(159,142 bytes)\n",
      "20230512143706_1227aafec443e105a6ef38b7124ccbb4_IMAG01_2.jpg\n",
      " writing to 20230512143706_1227aafec443e105a6ef38b7124ccbb4_IMAG01_2.jpg(329,090 bytes)\n",
      "20230512143706_1227aafec443e105a6ef38b7124ccbb4_IMAG01_3.jpg\n",
      " writing to 20230512143706_1227aafec443e105a6ef38b7124ccbb4_IMAG01_3.jpg(144,481 bytes)\n"
     ]
    }
   ],
   "source": [
    "import requests\n",
    "import os\n",
    "\n",
    "req_header = {\n",
    "    'referer':'https://comic.naver.com/webtoon/detail?titleId=733074&no=159'\n",
    "}\n",
    "img_urls = [\n",
    "    'https://image-comic.pstatic.net/webtoon/733074/159/20230512143706_1227aafec443e105a6ef38b7124ccbb4_IMAG01_1.jpg',\n",
    "    'https://image-comic.pstatic.net/webtoon/733074/159/20230512143706_1227aafec443e105a6ef38b7124ccbb4_IMAG01_2.jpg',\n",
    "    'https://image-comic.pstatic.net/webtoon/733074/159/20230512143706_1227aafec443e105a6ef38b7124ccbb4_IMAG01_3.jpg'\n",
    "]\n",
    "for img_url in img_urls:\n",
    "    res = requests.get(img_url, headers=req_header)\n",
    "    if res.ok:\n",
    "        img_data = res.content #binary 데이터\n",
    "        file_name = os.path.basename(img_url)\n",
    "        print(file_name)\n",
    "        # binary data를 file로 저장하기\n",
    "        with open(file_name, 'wb') as file:\n",
    "            print(f' writing to {file_name}({len(img_data):,} bytes)')\n",
    "            file.write(img_data)"
   ]
  },
  {
   "cell_type": "markdown",
   "id": "e8b00a04",
   "metadata": {},
   "source": [
    "#### 현재 요청된 페이지의 image 모두 다운로드 해보기"
   ]
  },
  {
   "cell_type": "code",
   "execution_count": 51,
   "id": "b30f7bf5",
   "metadata": {},
   "outputs": [
    {
     "name": "stdout",
     "output_type": "stream",
     "text": [
      "66\n"
     ]
    }
   ],
   "source": [
    "import requests\n",
    "import os\n",
    "\n",
    "url = 'https://comic.naver.com/webtoon/detail?titleId=733074&no=159'\n",
    "req_header = {\n",
    "    'referer': url\n",
    "}\n",
    "res = requests.get(url)\n",
    "if res.ok: #200\n",
    "    soup = BeautifulSoup(res.text, 'html.parser')\n",
    "    print(len(soup.select(\"img[src*='IMAG01']\")))\n",
    "    img_tags = soup.select(\"img[src*='IMAG01']\")\n",
    "    \n",
    "    img_url_list = []\n",
    "    for img_tag in img_tags:\n",
    "        img_url_list.append(img_tag['src'])\n",
    "        \n",
    "    # img 디렉토리가 없다면 생성\n",
    "    if not os.path.isdir('img'):\n",
    "        os.mkdir('img')\n",
    "        \n",
    "    for img_url in img_url_list:\n",
    "        res = requests.get(img_url, headers=req_header)\n",
    "        if res.ok:\n",
    "            img_data = res.content\n",
    "            file_name = os.path.basename(img_url)\n",
    "            # binary data를 file로 저장하기\n",
    "            dir_name = os.path.join('img',file_name)\n",
    "            with open(dir_name, 'wb') as file:\n",
    "                #print(f' writing to {file_name}({len(img_data):,} bytes)')\n",
    "                file.write(img_data)\n",
    "        else:\n",
    "            print(res.status_code)   \n",
    "else:\n",
    "    print(res.status_code)"
   ]
  },
  {
   "cell_type": "markdown",
   "id": "2ac9f5f9",
   "metadata": {},
   "source": [
    "### 파일 업로드 하기\n",
    "* http://httpbin.org/post 업로드 요청을 할 수 있는 url"
   ]
  },
  {
   "cell_type": "code",
   "execution_count": 2,
   "id": "04da4790",
   "metadata": {
    "tags": []
   },
   "outputs": [],
   "source": [
    "import requests\n",
    "\n",
    "upload_files_dict = {\n",
    "    'img1': open('f1.jpg','rb'),\n",
    "    'img2': open('f2.jpg','rb')\n",
    "}\n",
    "url = 'http://httpbin.org/post'\n",
    "res = requests.post(url, files=upload_files_dict)\n",
    "#print(res.status_code)\n",
    "#print(res.json()['files']['img1'])"
   ]
  },
  {
   "cell_type": "markdown",
   "id": "7ad65f12",
   "metadata": {},
   "source": [
    "### 번역 Open API 이용하기\n",
    "* urllib 를 사용한 예제"
   ]
  },
  {
   "cell_type": "code",
   "execution_count": 3,
   "id": "abbb0ebf",
   "metadata": {},
   "outputs": [
    {
     "name": "stdout",
     "output_type": "stream",
     "text": [
      "{\"message\":{\"result\":{\"srcLangType\":\"en\",\"tarLangType\":\"ko\",\"translatedText\":\"어제 나의 모든 문제들은 너무 멀리 있는 것처럼 보였다\",\"engineType\":\"N2MT\"},\"@type\":\"response\",\"@service\":\"naverservice.nmt.proxy\",\"@version\":\"1.0.0\"}}\n"
     ]
    }
   ],
   "source": [
    "# ZAZjlfXS4P5FW5DtE0wg\n",
    "# RNbe1ikysg\n",
    "import os\n",
    "import sys\n",
    "import urllib.request\n",
    "\n",
    "client_id = \"BPAhRYm7qEE7IR7F5p1_\" # 개발자센터에서 발급받은 Client ID 값\n",
    "client_secret = \"9cA4ZNU9RW\" # 개발자센터에서 발급받은 Client Secret 값\n",
    "encText = urllib.parse.quote(\"Yesterday all my troubles seemed so far away\")\n",
    "data = \"source=en&target=ko&text=\" + encText\n",
    "url = \"https://openapi.naver.com/v1/papago/n2mt\"\n",
    "\n",
    "request = urllib.request.Request(url)\n",
    "request.add_header(\"X-Naver-Client-Id\",client_id)\n",
    "request.add_header(\"X-Naver-Client-Secret\",client_secret)\n",
    "\n",
    "response = urllib.request.urlopen(request, data=data.encode(\"utf-8\"))\n",
    "rescode = response.getcode()\n",
    "if(rescode==200):\n",
    "    response_body = response.read()\n",
    "    print(response_body.decode('utf-8'))\n",
    "else:\n",
    "    print(\"Error Code:\" + rescode)\n"
   ]
  },
  {
   "cell_type": "markdown",
   "id": "b7d984a6",
   "metadata": {},
   "source": [
    "* requests를 사용하여 Papago 번역 API를 사용하기\n",
    "* [requests docs](https://requests.readthedocs.io/en/latest/user/quickstart/)\n",
    "* [Prepared Requests](https://requests.readthedocs.io/en/latest/user/advanced/#prepared-requests)"
   ]
  },
  {
   "cell_type": "code",
   "execution_count": 12,
   "id": "727b427b",
   "metadata": {},
   "outputs": [
    {
     "name": "stdout",
     "output_type": "stream",
     "text": [
      "200\n",
      "<class 'str'>\n",
      "<class 'dict'>\n",
      "{'message': {'result': {'srcLangType': 'en', 'tarLangType': 'ko', 'translatedText': '어제 나의 모든 문제들은 너무 멀리 있는 것처럼 보였다', 'engineType': 'N2MT'}, '@type': 'response', '@service': 'naverservice.nmt.proxy', '@version': '1.0.0'}}\n",
      "어제 나의 모든 문제들은 너무 멀리 있는 것처럼 보였다\n"
     ]
    }
   ],
   "source": [
    "from requests import Request, Session\n",
    "\n",
    "client_id = \"BPAhRYm7qEE7IR7F5p1_\" # 개발자센터에서 발급받은 Client ID 값\n",
    "client_secret = \"9cA4ZNU9RW\" # 개발자센터에서 발급받은 Client Secret 값\n",
    "trans_text = \"Yesterday all my troubles seemed so far away\"\n",
    "req_param = {\n",
    "    \"source\":\"en\",\n",
    "    \"target\":\"ko\",\n",
    "    \"text\":trans_text\n",
    "}\n",
    "req_header={\n",
    "    \"X-Naver-Client-Id\":client_id,\n",
    "    \"X-Naver-Client-Secret\":client_secret\n",
    "}\n",
    "url = \"https://openapi.naver.com/v1/papago/n2mt\"\n",
    "\n",
    "#Session객체생성\n",
    "session = Session()\n",
    "req = Request('POST', url, data=req_param, headers=req_header)\n",
    "prepped = req.prepare()\n",
    "res = session.send(prepped)\n",
    "print(res.status_code)\n",
    "if (res.ok):\n",
    "    print(type(res.text))\n",
    "    print(type(res.json()))\n",
    "    print(res.json())\n",
    "    result_text = res.json()['message']['result']['translatedText']\n",
    "    print(result_text)"
   ]
  },
  {
   "cell_type": "code",
   "execution_count": null,
   "id": "b2b262ad-8d59-4f42-a00b-661d3964d8d0",
   "metadata": {},
   "outputs": [],
   "source": [
    "def trans_text(so,ta,text):\n",
    "    from requests import Request, Session\n",
    "\n",
    "    client_id = \"BPAhRYm7qEE7IR7F5p1_\" # 개발자센터에서 발급받은 Client ID 값\n",
    "    client_secret = \"9cA4ZNU9RW\" # 개발자센터에서 발급받은 Client Secret 값\n",
    "    req_param = {\n",
    "        \"source\":so,\n",
    "        \"target\":ta,\n",
    "        \"text\":text\n",
    "    }\n",
    "    req_header={\n",
    "        \"X-Naver-Client-Id\":client_id,\n",
    "        \"X-Naver-Client-Secret\":client_secret\n",
    "    }\n",
    "    url = \"https://openapi.naver.com/v1/papago/n2mt\"\n",
    "\n",
    "    #Session객체생성\n",
    "    session = Session()\n",
    "    req = Request('POST', url, data=req_param, headers=req_header)\n",
    "    prepped = req.prepare()\n",
    "    res = session.send(prepped)\n",
    "    print(res.status_code)\n",
    "    if (res.ok):\n",
    "        print(type(res.text))\n",
    "        print(type(res.json()))\n",
    "        print(res.json())\n",
    "        result_text = res.json()['message']['result']['translatedText']\n",
    "        print(result_text)"
   ]
  }
 ],
 "metadata": {
  "kernelspec": {
   "display_name": "Python 3 (ipykernel)",
   "language": "python",
   "name": "python3"
  },
  "language_info": {
   "codemirror_mode": {
    "name": "ipython",
    "version": 3
   },
   "file_extension": ".py",
   "mimetype": "text/x-python",
   "name": "python",
   "nbconvert_exporter": "python",
   "pygments_lexer": "ipython3",
   "version": "3.10.9"
  }
 },
 "nbformat": 4,
 "nbformat_minor": 5
}
