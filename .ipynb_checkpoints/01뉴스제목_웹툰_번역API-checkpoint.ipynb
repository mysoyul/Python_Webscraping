{
 "cells": [
  {
   "cell_type": "markdown",
   "id": "eb0bfa44",
   "metadata": {},
   "source": [
    "## 1. 뉴스제목 가져오기\n",
    "* user-agent 요청헤더를 반드시 설정해야 한다."
   ]
  },
  {
   "cell_type": "code",
   "execution_count": 1,
   "id": "f0d27781",
   "metadata": {},
   "outputs": [
    {
     "name": "stdout",
     "output_type": "stream",
     "text": [
      "Name: requests\n",
      "Version: 2.28.1\n",
      "Summary: Python HTTP for Humans.\n",
      "Home-page: https://requests.readthedocs.io\n",
      "Author: Kenneth Reitz\n",
      "Author-email: me@kennethreitz.org\n",
      "License: Apache 2.0\n",
      "Location: c:\\users\\vega2\\anaconda3\\lib\\site-packages\n",
      "Requires: certifi, charset-normalizer, idna, urllib3\n",
      "Required-by: anaconda-client, anaconda-project, conda, conda-build, conda-repo-cli, conda_package_streaming, cookiecutter, datashader, huggingface-hub, jupyterlab_server, panel, pooch, requests-file, requests-toolbelt, Sphinx, tldextract, transformers\n"
     ]
    }
   ],
   "source": [
    "!pip show requests"
   ]
  },
  {
   "cell_type": "code",
   "execution_count": 2,
   "id": "bf80a429",
   "metadata": {},
   "outputs": [],
   "source": [
    "import requests\n",
    "import bs4\n",
    "from bs4 import BeautifulSoup"
   ]
  },
  {
   "cell_type": "code",
   "execution_count": 3,
   "id": "9788d6ac",
   "metadata": {},
   "outputs": [
    {
     "name": "stdout",
     "output_type": "stream",
     "text": [
      "request ver  2.28.1\n",
      "beautifulsoup  4.11.1\n"
     ]
    }
   ],
   "source": [
    "print('request ver ' , requests.__version__)\n",
    "print('beautifulsoup ', bs4.__version__)"
   ]
  },
  {
   "cell_type": "code",
   "execution_count": 29,
   "id": "94c12fd6",
   "metadata": {},
   "outputs": [
    {
     "name": "stdout",
     "output_type": "stream",
     "text": [
      "200\n",
      "True\n",
      "29\n",
      " https://n.news.naver.com/mnews/article/030/0003107013?sid=105\n",
      "영림원소프트랩, 공공ERP ‘제3회 공공부문 SW 어워드’ 상용SW 수상 https://n.news.naver.com/mnews/article/030/0003107013?sid=105\n",
      " https://n.news.naver.com/mnews/article/011/0004200535?sid=105\n",
      "비만·당뇨 예방 열쇠 ‘갈색지방’의 퇴화 원리 알아냈다 https://n.news.naver.com/mnews/article/011/0004200535?sid=105\n",
      " https://n.news.naver.com/mnews/article/011/0004200493?sid=105\n",
      "'태양광으로 수소 생산' 상업적 생산 방법 찾아내 https://n.news.naver.com/mnews/article/011/0004200493?sid=105\n",
      " https://n.news.naver.com/mnews/article/011/0004200512?sid=105\n",
      "KT, 유럽 최대 스타트업 박람회 참가…韓 ICT 뽐낸다 https://n.news.naver.com/mnews/article/011/0004200512?sid=105\n",
      " https://n.news.naver.com/mnews/article/277/0005271224?sid=105\n",
      "\"망 이용 정당한 대가 지급 거부 행위 근절해야\" https://n.news.naver.com/mnews/article/277/0005271224?sid=105\n",
      " https://n.news.naver.com/mnews/article/138/0002150178?sid=105\n",
      "LGU+, ‘미리뷰’로 현대엘리베이터 승객 안전 지킨다 https://n.news.naver.com/mnews/article/138/0002150178?sid=105\n",
      " https://n.news.naver.com/mnews/article/005/0001615286?sid=105\n",
      "블룸버그 “애플, 저가형 비전 프로 이미 개발 중” https://n.news.naver.com/mnews/article/005/0001615286?sid=105\n",
      "김기현 '싱하이밍 회동' 이재명 비판‥\"중국 공산당 한국지부장인가\" https://n.news.naver.com/mnews/article/214/0001278554?sid=100\n",
      "與 “‘돈봉투’ 윤관석·이성만 체포안 가결로 당론 정할 것” https://n.news.naver.com/mnews/article/005/0001615253?sid=100\n",
      "김의겸 \"조국 총선 길 열려있다…전제조건은 '민주당과 무관하게'\"[정치쇼] https://n.news.naver.com/mnews/article/055/0001064662?sid=100\n",
      "적반하장 중국…주중대사 초치 https://n.news.naver.com/mnews/article/025/0003286153?sid=104\n",
      "후쿠시마 원전 오염수 방류 시운전 개시 https://n.news.naver.com/mnews/article/056/0011502667?sid=104\n",
      "美 큰손, 4월 말 이후 31조원 넘게 주식 팔았다 https://n.news.naver.com/mnews/article/374/0000339176?sid=101\n",
      "“아미 모여라”…에쓰오일, BTS 데뷔 10주년 기념 주유소 운영 https://n.news.naver.com/mnews/article/018/0005506367?sid=101\n",
      "유진투자증권, 신용보증기금과 스타트업 투자유치 활성화 업무협약 https://n.news.naver.com/mnews/article/277/0005271162?sid=101\n",
      "카카오게임즈, ‘우마무스메’ 첫 단독 오프라인 행사 성료... 2000여명 현장 방문 https://n.news.naver.com/mnews/article/030/0003107003?sid=105\n",
      "UNIST, ‘태양광 수소’ 상업적 해법 찾았다 https://n.news.naver.com/mnews/article/016/0002154833?sid=105\n",
      "'노란봉투법 닮은꼴' 현대차 손배소…대법 소부→전합→소부, 왜? https://n.news.naver.com/mnews/article/003/0011907404?sid=102\n",
      "차 사고 직후 식당 들어가 소주마신 40대 징역형, 왜? https://n.news.naver.com/mnews/article/005/0001615293?sid=102\n",
      "중국에 '반도체공장 복제' 시도…전 삼성전자 간부 기소 https://n.news.naver.com/mnews/article/215/0001106921?sid=102\n",
      "50대 이상 K팝 '큰손' 부상...\"음원 이용 시간 10대의 2배\" https://n.news.naver.com/mnews/article/052/0001895666?sid=103\n",
      "낮부터 요란한 소나기...우박·돌풍 주의[날씨] https://n.news.naver.com/mnews/article/052/0001895846?sid=103\n"
     ]
    }
   ],
   "source": [
    "# IT/과학 뉴스\n",
    "url = 'https://news.naver.com/main/main.naver'  #https://news.naver.com/main/main.naver?mode=LSD&mid=shm&sid1=103\n",
    "# 요청 Parameter\n",
    "req_param = {\n",
    "    'mode':'LSD',\n",
    "    'mid':'shm',\n",
    "    'sid1':'105'\n",
    "}\n",
    "# 요청 헤더 설정 : 브라우저 정보\n",
    "req_header = {\n",
    "    'user-agent': 'Mozilla/5.0 (Windows NT 10.0; Win64; x64) AppleWebKit/537.36 (KHTML, like Gecko) Chrome/104.0.0.0 Safari/537.36'\n",
    "}\n",
    "res = requests.get(url, params=req_param, headers=req_header)\n",
    "print(res.status_code)\n",
    "print(res.ok)\n",
    "#print('요청 header', res.request.headers)\n",
    "#print('응답 header', res.headers)\n",
    "if res.ok:\n",
    "    html = res.text #소스보기 텍스트 추출\n",
    "    soup = BeautifulSoup(html, 'html.parser')\n",
    "    print(len(soup.select(\"a[href*='n.news.naver.com/mnews/article']\")))\n",
    "    a_tags = soup.select(\"a[href*='n.news.naver.com/mnews/article']\")\n",
    "    for a_tag in a_tags:\n",
    "        #print(a_tag)\n",
    "        title = a_tag.text.strip()\n",
    "        link = a_tag['href']\n",
    "        print(title, link)"
   ]
  },
  {
   "cell_type": "code",
   "execution_count": 31,
   "id": "8372d0db-4ff8-4943-8140-be8145f74887",
   "metadata": {},
   "outputs": [
    {
     "name": "stdout",
     "output_type": "stream",
     "text": [
      "정치\n"
     ]
    }
   ],
   "source": [
    "section_dict = {100:'정치',101:'경제',102:'사회',103:'생활/문화',104:'세계',105:'IT/과학'}\n",
    "print(section_dict[100])\n",
    "#https://news.naver.com/main/main.naver?mode=LSD&mid=shm&sid1=103\n",
    "print_news(102,section_dict[102])"
   ]
  },
  {
   "cell_type": "code",
   "execution_count": null,
   "id": "3c867bb3-5125-44d1-b07b-66e8d2abee4e",
   "metadata": {},
   "outputs": [],
   "source": [
    "def print_news(sid1, section):\n",
    "    # IT/과학 뉴스\n",
    "    url = 'https://news.naver.com/main/main.naver'  #https://news.naver.com/main/main.naver?mode=LSD&mid=shm&sid1=103\n",
    "    print(f'======> {section} 뉴스 <======')\n",
    "    # 요청 Parameter\n",
    "    req_param = {\n",
    "        'mode':'LSD',\n",
    "        'mid':'shm',\n",
    "        'sid1':sid1\n",
    "    }\n",
    "    # 요청 헤더 설정 : 브라우저 정보\n",
    "    req_header = {\n",
    "        'user-agent': 'Mozilla/5.0 (Windows NT 10.0; Win64; x64) AppleWebKit/537.36 (KHTML, like Gecko) Chrome/104.0.0.0 Safari/537.36'\n",
    "    }\n",
    "    res = requests.get(url, params=req_param, headers=req_header)\n",
    "    print(res.status_code)\n",
    "    print(res.ok)\n",
    "    #print('요청 header', res.request.headers)\n",
    "    #print('응답 header', res.headers)\n",
    "    if res.ok:\n",
    "        html = res.text #소스보기 텍스트 추출\n",
    "        soup = BeautifulSoup(html, 'html.parser')\n",
    "        print(len(soup.select(\"a[href*='n.news.naver.com/mnews/article']\")))\n",
    "        a_tags = soup.select(\"a[href*='n.news.naver.com/mnews/article']\")\n",
    "        for a_tag in a_tags:\n",
    "            #print(a_tag)\n",
    "            title = a_tag.text.strip()\n",
    "            link = a_tag['href']\n",
    "            print(title, link)"
   ]
  },
  {
   "cell_type": "markdown",
   "id": "323196dc",
   "metadata": {},
   "source": [
    "### 2. Image 다운로드\n",
    "* referer 요청 헤더를 반드시 설정해야 한다."
   ]
  },
  {
   "cell_type": "code",
   "execution_count": 49,
   "id": "e39dce7a",
   "metadata": {},
   "outputs": [],
   "source": [
    "import requests\n",
    "import os"
   ]
  },
  {
   "cell_type": "code",
   "execution_count": 61,
   "id": "c72d6cb1",
   "metadata": {},
   "outputs": [
    {
     "name": "stdout",
     "output_type": "stream",
     "text": [
      "20220804112251_d97bd1e1b38f0cd022e4e3639d2926b3_IMAG01_1.jpg\n",
      " writing to 20220804112251_d97bd1e1b38f0cd022e4e3639d2926b3_IMAG01_1.jpg(299,319 bytes)\n",
      "20220804112251_d97bd1e1b38f0cd022e4e3639d2926b3_IMAG01_2.jpg\n",
      " writing to 20220804112251_d97bd1e1b38f0cd022e4e3639d2926b3_IMAG01_2.jpg(163,333 bytes)\n",
      "20220804112251_d97bd1e1b38f0cd022e4e3639d2926b3_IMAG01_3.jpg\n",
      " writing to 20220804112251_d97bd1e1b38f0cd022e4e3639d2926b3_IMAG01_3.jpg(182,530 bytes)\n"
     ]
    }
   ],
   "source": [
    "req_header = {\n",
    "    'referer':'https://comic.naver.com/webtoon/detail?titleId=798173&no=5&amp;weekday=thu'\n",
    "}\n",
    "img_urls = [\n",
    "    'https://image-comic.pstatic.net/webtoon/798173/5/20220804112251_d97bd1e1b38f0cd022e4e3639d2926b3_IMAG01_1.jpg',\n",
    "    'https://image-comic.pstatic.net/webtoon/798173/5/20220804112251_d97bd1e1b38f0cd022e4e3639d2926b3_IMAG01_2.jpg',\n",
    "    'https://image-comic.pstatic.net/webtoon/798173/5/20220804112251_d97bd1e1b38f0cd022e4e3639d2926b3_IMAG01_3.jpg'\n",
    "]\n",
    "for img_url in img_urls:\n",
    "    res = requests.get(img_url, headers=req_header)\n",
    "    if res.ok:\n",
    "        img_data = res.content\n",
    "        file_name = os.path.basename(img_url)\n",
    "        print(file_name)\n",
    "        # binary data를 file로 저장하기\n",
    "        with open(file_name, 'wb') as file:\n",
    "            print(f' writing to {file_name}({len(img_data):,} bytes)')\n",
    "            file.write(img_data)"
   ]
  },
  {
   "cell_type": "markdown",
   "id": "e8b00a04",
   "metadata": {},
   "source": [
    "#### 현재 요청된 페이지의 image 모두 다운로드 해보기"
   ]
  },
  {
   "cell_type": "code",
   "execution_count": 71,
   "id": "b30f7bf5",
   "metadata": {},
   "outputs": [
    {
     "name": "stdout",
     "output_type": "stream",
     "text": [
      "200 True\n",
      "68\n"
     ]
    }
   ],
   "source": [
    "  "
   ]
  },
  {
   "cell_type": "markdown",
   "id": "2ac9f5f9",
   "metadata": {},
   "source": [
    "### 파일 업로드 하기\n",
    "* http://httpbin.org/post 업로드 요청을 할 수 있는 url"
   ]
  },
  {
   "cell_type": "code",
   "execution_count": null,
   "id": "04da4790",
   "metadata": {},
   "outputs": [],
   "source": []
  },
  {
   "cell_type": "markdown",
   "id": "7ad65f12",
   "metadata": {},
   "source": [
    "### 번역 Open API 이용하기\n",
    "* urllib 를 사용한 예제"
   ]
  },
  {
   "cell_type": "code",
   "execution_count": 77,
   "id": "abbb0ebf",
   "metadata": {},
   "outputs": [
    {
     "name": "stdout",
     "output_type": "stream",
     "text": [
      "{\"message\":{\"result\":{\"srcLangType\":\"en\",\"tarLangType\":\"ko\",\"translatedText\":\"어제 나의 모든 고민은 너무 멀리 있는 것 같았다.\",\"engineType\":\"N2MT\",\"pivot\":null,\"dict\":null,\"tarDict\":null},\"@type\":\"response\",\"@service\":\"naverservice.nmt.proxy\",\"@version\":\"1.0.0\"}}\n"
     ]
    }
   ],
   "source": [
    "# ZAZjlfXS4P5FW5DtE0wg\n",
    "# RNbe1ikysg\n",
    "import os\n",
    "import sys\n",
    "import urllib.request\n",
    "\n",
    "client_id = \"ZAZjlfXS4P5FW5DtE0wg\" # 개발자센터에서 발급받은 Client ID 값\n",
    "client_secret = \"RNbe1ikysg\" # 개발자센터에서 발급받은 Client Secret 값\n",
    "encText = urllib.parse.quote(\"Yesterday all my troubles seemed so far away\")\n",
    "data = \"source=en&target=ko&text=\" + encText\n",
    "url = \"https://openapi.naver.com/v1/papago/n2mt\"\n",
    "\n",
    "request = urllib.request.Request(url)\n",
    "request.add_header(\"X-Naver-Client-Id\",client_id)\n",
    "request.add_header(\"X-Naver-Client-Secret\",client_secret)\n",
    "\n",
    "response = urllib.request.urlopen(request, data=data.encode(\"utf-8\"))\n",
    "rescode = response.getcode()\n",
    "if(rescode==200):\n",
    "    response_body = response.read()\n",
    "    print(response_body.decode('utf-8'))\n",
    "else:\n",
    "    print(\"Error Code:\" + rescode)\n"
   ]
  },
  {
   "cell_type": "markdown",
   "id": "b7d984a6",
   "metadata": {},
   "source": [
    "* requests를 사용한 코드로 변경하기\n",
    "* [requests docs](https://requests.readthedocs.io/en/latest/user/quickstart/)"
   ]
  },
  {
   "cell_type": "code",
   "execution_count": null,
   "id": "727b427b",
   "metadata": {},
   "outputs": [],
   "source": []
  }
 ],
 "metadata": {
  "kernelspec": {
   "display_name": "Python 3 (ipykernel)",
   "language": "python",
   "name": "python3"
  },
  "language_info": {
   "codemirror_mode": {
    "name": "ipython",
    "version": 3
   },
   "file_extension": ".py",
   "mimetype": "text/x-python",
   "name": "python",
   "nbconvert_exporter": "python",
   "pygments_lexer": "ipython3",
   "version": "3.10.9"
  }
 },
 "nbformat": 4,
 "nbformat_minor": 5
}
