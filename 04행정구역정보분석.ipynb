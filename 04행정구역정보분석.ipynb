{
 "cells": [
  {
   "cell_type": "markdown",
   "id": "45616068-a35a-4dfd-af9c-a571a914f165",
   "metadata": {},
   "source": [
    "#### 행정구역 정보 읽고, 분석하기\n",
    "1. read_csv() 함수로 csv file 읽어서 DataFrame 객체생성하기\n",
    "2. loc 과 iloc를 사용해서 특정행과 열을 선택하기\n",
    "3. 컬럼명 변경하기\n",
    "4. 상관관계 분석 (인구수와 면적간의 상관관계)\n",
    "5. 시각화"
   ]
  },
  {
   "cell_type": "code",
   "execution_count": 5,
   "id": "551047f3-4437-4063-a494-2bc0182980e4",
   "metadata": {},
   "outputs": [
    {
     "name": "stdout",
     "output_type": "stream",
     "text": [
      "1.5.3\n",
      "<class 'pandas.core.frame.DataFrame'>\n",
      "(229, 8)\n"
     ]
    }
   ],
   "source": [
    "import pandas as pd\n",
    "print(pd.__version__)\n",
    "\n",
    "data = pd.read_csv('data/data_draw_korea.csv')\n",
    "print(type(data))\n",
    "print(data.shape)"
   ]
  },
  {
   "cell_type": "code",
   "execution_count": 10,
   "id": "1ea57073-5177-4737-a65a-a765c0cffe49",
   "metadata": {},
   "outputs": [
    {
     "data": {
      "text/html": [
       "<div>\n",
       "<style scoped>\n",
       "    .dataframe tbody tr th:only-of-type {\n",
       "        vertical-align: middle;\n",
       "    }\n",
       "\n",
       "    .dataframe tbody tr th {\n",
       "        vertical-align: top;\n",
       "    }\n",
       "\n",
       "    .dataframe thead th {\n",
       "        text-align: right;\n",
       "    }\n",
       "</style>\n",
       "<table border=\"1\" class=\"dataframe\">\n",
       "  <thead>\n",
       "    <tr style=\"text-align: right;\">\n",
       "      <th></th>\n",
       "      <th>Unnamed: 0</th>\n",
       "      <th>인구수</th>\n",
       "      <th>shortName</th>\n",
       "      <th>x</th>\n",
       "      <th>y</th>\n",
       "      <th>면적</th>\n",
       "      <th>광역시도</th>\n",
       "      <th>행정구역</th>\n",
       "    </tr>\n",
       "  </thead>\n",
       "  <tbody>\n",
       "    <tr>\n",
       "      <th>0</th>\n",
       "      <td>0</td>\n",
       "      <td>202520</td>\n",
       "      <td>강릉</td>\n",
       "      <td>11</td>\n",
       "      <td>4</td>\n",
       "      <td>1040.07</td>\n",
       "      <td>강원도</td>\n",
       "      <td>강릉시</td>\n",
       "    </tr>\n",
       "    <tr>\n",
       "      <th>1</th>\n",
       "      <td>1</td>\n",
       "      <td>25589</td>\n",
       "      <td>고성(강원)</td>\n",
       "      <td>9</td>\n",
       "      <td>0</td>\n",
       "      <td>664.19</td>\n",
       "      <td>강원도</td>\n",
       "      <td>고성군</td>\n",
       "    </tr>\n",
       "    <tr>\n",
       "      <th>2</th>\n",
       "      <td>2</td>\n",
       "      <td>86747</td>\n",
       "      <td>동해</td>\n",
       "      <td>11</td>\n",
       "      <td>5</td>\n",
       "      <td>180.01</td>\n",
       "      <td>강원도</td>\n",
       "      <td>동해시</td>\n",
       "    </tr>\n",
       "    <tr>\n",
       "      <th>3</th>\n",
       "      <td>3</td>\n",
       "      <td>63986</td>\n",
       "      <td>삼척</td>\n",
       "      <td>11</td>\n",
       "      <td>8</td>\n",
       "      <td>1185.80</td>\n",
       "      <td>강원도</td>\n",
       "      <td>삼척시</td>\n",
       "    </tr>\n",
       "    <tr>\n",
       "      <th>4</th>\n",
       "      <td>4</td>\n",
       "      <td>76733</td>\n",
       "      <td>속초</td>\n",
       "      <td>9</td>\n",
       "      <td>1</td>\n",
       "      <td>105.25</td>\n",
       "      <td>강원도</td>\n",
       "      <td>속초시</td>\n",
       "    </tr>\n",
       "  </tbody>\n",
       "</table>\n",
       "</div>"
      ],
      "text/plain": [
       "   Unnamed: 0     인구수 shortName   x  y       면적 광역시도 행정구역\n",
       "0           0  202520        강릉  11  4  1040.07  강원도  강릉시\n",
       "1           1   25589    고성(강원)   9  0   664.19  강원도  고성군\n",
       "2           2   86747        동해  11  5   180.01  강원도  동해시\n",
       "3           3   63986        삼척  11  8  1185.80  강원도  삼척시\n",
       "4           4   76733        속초   9  1   105.25  강원도  속초시"
      ]
     },
     "execution_count": 10,
     "metadata": {},
     "output_type": "execute_result"
    }
   ],
   "source": [
    "data.head()"
   ]
  },
  {
   "cell_type": "code",
   "execution_count": 11,
   "id": "abe69f74-7e86-4b94-bf21-291ac104da14",
   "metadata": {},
   "outputs": [
    {
     "data": {
      "text/html": [
       "<div>\n",
       "<style scoped>\n",
       "    .dataframe tbody tr th:only-of-type {\n",
       "        vertical-align: middle;\n",
       "    }\n",
       "\n",
       "    .dataframe tbody tr th {\n",
       "        vertical-align: top;\n",
       "    }\n",
       "\n",
       "    .dataframe thead th {\n",
       "        text-align: right;\n",
       "    }\n",
       "</style>\n",
       "<table border=\"1\" class=\"dataframe\">\n",
       "  <thead>\n",
       "    <tr style=\"text-align: right;\">\n",
       "      <th></th>\n",
       "      <th>Unnamed: 0</th>\n",
       "      <th>인구수</th>\n",
       "      <th>shortName</th>\n",
       "      <th>x</th>\n",
       "      <th>y</th>\n",
       "      <th>면적</th>\n",
       "      <th>광역시도</th>\n",
       "      <th>행정구역</th>\n",
       "    </tr>\n",
       "  </thead>\n",
       "  <tbody>\n",
       "    <tr>\n",
       "      <th>224</th>\n",
       "      <td>224</td>\n",
       "      <td>127462</td>\n",
       "      <td>제천</td>\n",
       "      <td>8</td>\n",
       "      <td>10</td>\n",
       "      <td>882.47</td>\n",
       "      <td>충청북도</td>\n",
       "      <td>제천시</td>\n",
       "    </tr>\n",
       "    <tr>\n",
       "      <th>225</th>\n",
       "      <td>225</td>\n",
       "      <td>34480</td>\n",
       "      <td>증평</td>\n",
       "      <td>6</td>\n",
       "      <td>11</td>\n",
       "      <td>81.84</td>\n",
       "      <td>충청북도</td>\n",
       "      <td>증평군</td>\n",
       "    </tr>\n",
       "    <tr>\n",
       "      <th>226</th>\n",
       "      <td>226</td>\n",
       "      <td>62809</td>\n",
       "      <td>진천</td>\n",
       "      <td>5</td>\n",
       "      <td>11</td>\n",
       "      <td>406.08</td>\n",
       "      <td>충청북도</td>\n",
       "      <td>진천군</td>\n",
       "    </tr>\n",
       "    <tr>\n",
       "      <th>227</th>\n",
       "      <td>227</td>\n",
       "      <td>790216</td>\n",
       "      <td>청주</td>\n",
       "      <td>6</td>\n",
       "      <td>12</td>\n",
       "      <td>932.51</td>\n",
       "      <td>충청북도</td>\n",
       "      <td>청주시</td>\n",
       "    </tr>\n",
       "    <tr>\n",
       "      <th>228</th>\n",
       "      <td>228</td>\n",
       "      <td>198077</td>\n",
       "      <td>충주</td>\n",
       "      <td>6</td>\n",
       "      <td>10</td>\n",
       "      <td>983.70</td>\n",
       "      <td>충청북도</td>\n",
       "      <td>충주시</td>\n",
       "    </tr>\n",
       "  </tbody>\n",
       "</table>\n",
       "</div>"
      ],
      "text/plain": [
       "     Unnamed: 0     인구수 shortName  x   y      면적  광역시도 행정구역\n",
       "224         224  127462        제천  8  10  882.47  충청북도  제천시\n",
       "225         225   34480        증평  6  11   81.84  충청북도  증평군\n",
       "226         226   62809        진천  5  11  406.08  충청북도  진천군\n",
       "227         227  790216        청주  6  12  932.51  충청북도  청주시\n",
       "228         228  198077        충주  6  10  983.70  충청북도  충주시"
      ]
     },
     "execution_count": 11,
     "metadata": {},
     "output_type": "execute_result"
    }
   ],
   "source": [
    "data.tail()"
   ]
  },
  {
   "cell_type": "code",
   "execution_count": 15,
   "id": "8d1a48c7-e5a9-49bd-b0c5-13442927a11c",
   "metadata": {},
   "outputs": [
    {
     "data": {
      "text/html": [
       "<div>\n",
       "<style scoped>\n",
       "    .dataframe tbody tr th:only-of-type {\n",
       "        vertical-align: middle;\n",
       "    }\n",
       "\n",
       "    .dataframe tbody tr th {\n",
       "        vertical-align: top;\n",
       "    }\n",
       "\n",
       "    .dataframe thead th {\n",
       "        text-align: right;\n",
       "    }\n",
       "</style>\n",
       "<table border=\"1\" class=\"dataframe\">\n",
       "  <thead>\n",
       "    <tr style=\"text-align: right;\">\n",
       "      <th></th>\n",
       "      <th>Unnamed: 0</th>\n",
       "      <th>인구수</th>\n",
       "      <th>shortName</th>\n",
       "      <th>x</th>\n",
       "      <th>y</th>\n",
       "      <th>면적</th>\n",
       "      <th>광역시도</th>\n",
       "      <th>행정구역</th>\n",
       "    </tr>\n",
       "  </thead>\n",
       "  <tbody>\n",
       "    <tr>\n",
       "      <th>98</th>\n",
       "      <td>98</td>\n",
       "      <td>330830</td>\n",
       "      <td>대구동구</td>\n",
       "      <td>11</td>\n",
       "      <td>13</td>\n",
       "      <td>182.35</td>\n",
       "      <td>대구광역시</td>\n",
       "      <td>동구</td>\n",
       "    </tr>\n",
       "    <tr>\n",
       "      <th>17</th>\n",
       "      <td>17</td>\n",
       "      <td>39668</td>\n",
       "      <td>횡성</td>\n",
       "      <td>10</td>\n",
       "      <td>5</td>\n",
       "      <td>997.82</td>\n",
       "      <td>강원도</td>\n",
       "      <td>횡성군</td>\n",
       "    </tr>\n",
       "    <tr>\n",
       "      <th>67</th>\n",
       "      <td>67</td>\n",
       "      <td>251220</td>\n",
       "      <td>경산</td>\n",
       "      <td>11</td>\n",
       "      <td>12</td>\n",
       "      <td>411.58</td>\n",
       "      <td>경상북도</td>\n",
       "      <td>경산시</td>\n",
       "    </tr>\n",
       "  </tbody>\n",
       "</table>\n",
       "</div>"
      ],
      "text/plain": [
       "    Unnamed: 0     인구수 shortName   x   y      면적   광역시도 행정구역\n",
       "98          98  330830      대구동구  11  13  182.35  대구광역시   동구\n",
       "17          17   39668        횡성  10   5  997.82    강원도  횡성군\n",
       "67          67  251220        경산  11  12  411.58   경상북도  경산시"
      ]
     },
     "execution_count": 15,
     "metadata": {},
     "output_type": "execute_result"
    }
   ],
   "source": [
    "data.sample(3)"
   ]
  },
  {
   "cell_type": "code",
   "execution_count": 17,
   "id": "5ed01a57-8667-461b-921a-da7dfec73e6b",
   "metadata": {},
   "outputs": [
    {
     "name": "stdout",
     "output_type": "stream",
     "text": [
      "컬럼명 : Index(['Unnamed: 0', '인구수', 'shortName', 'x', 'y', '면적', '광역시도', '행정구역'], dtype='object')\n",
      "인덱스 : RangeIndex(start=0, stop=229, step=1)\n"
     ]
    }
   ],
   "source": [
    "print(f'컬럼명 : {data.columns}')\n",
    "print(f'인덱스 : {data.index}')"
   ]
  },
  {
   "cell_type": "code",
   "execution_count": 19,
   "id": "e83b5f9b-2e05-4621-ab48-822294649bb5",
   "metadata": {},
   "outputs": [
    {
     "name": "stdout",
     "output_type": "stream",
     "text": [
      "<class 'numpy.ndarray'>\n"
     ]
    },
    {
     "data": {
      "text/plain": [
       "array([[0, 202520, '강릉', ..., 1040.07, '강원도', '강릉시'],\n",
       "       [1, 25589, '고성(강원)', ..., 664.19, '강원도', '고성군'],\n",
       "       [2, 86747, '동해', ..., 180.01, '강원도', '동해시'],\n",
       "       ...,\n",
       "       [226, 62809, '진천', ..., 406.08, '충청북도', '진천군'],\n",
       "       [227, 790216, '청주', ..., 932.51, '충청북도', '청주시'],\n",
       "       [228, 198077, '충주', ..., 983.7, '충청북도', '충주시']], dtype=object)"
      ]
     },
     "execution_count": 19,
     "metadata": {},
     "output_type": "execute_result"
    }
   ],
   "source": [
    "print(type(data.values))\n",
    "data.values"
   ]
  },
  {
   "cell_type": "code",
   "execution_count": 21,
   "id": "fea0bb69-69c5-4c7d-a943-ce23448b2166",
   "metadata": {},
   "outputs": [
    {
     "name": "stdout",
     "output_type": "stream",
     "text": [
      "<class 'pandas.core.frame.DataFrame'>\n",
      "RangeIndex: 229 entries, 0 to 228\n",
      "Data columns (total 8 columns):\n",
      " #   Column      Non-Null Count  Dtype  \n",
      "---  ------      --------------  -----  \n",
      " 0   Unnamed: 0  229 non-null    int64  \n",
      " 1   인구수         229 non-null    int64  \n",
      " 2   shortName   229 non-null    object \n",
      " 3   x           229 non-null    int64  \n",
      " 4   y           229 non-null    int64  \n",
      " 5   면적          229 non-null    float64\n",
      " 6   광역시도        229 non-null    object \n",
      " 7   행정구역        229 non-null    object \n",
      "dtypes: float64(1), int64(4), object(3)\n",
      "memory usage: 14.4+ KB\n"
     ]
    }
   ],
   "source": [
    "data.info()"
   ]
  },
  {
   "cell_type": "code",
   "execution_count": 23,
   "id": "3c30b16f-7254-47b3-845a-62319da215fc",
   "metadata": {},
   "outputs": [
    {
     "data": {
      "text/plain": [
       "Unnamed: 0      int64\n",
       "인구수             int64\n",
       "shortName      object\n",
       "x               int64\n",
       "y               int64\n",
       "면적            float64\n",
       "광역시도           object\n",
       "행정구역           object\n",
       "dtype: object"
      ]
     },
     "execution_count": 23,
     "metadata": {},
     "output_type": "execute_result"
    }
   ],
   "source": [
    "data.dtypes"
   ]
  },
  {
   "cell_type": "code",
   "execution_count": 26,
   "id": "12e69c47-7446-418a-ad0f-2719b6478af1",
   "metadata": {},
   "outputs": [
    {
     "data": {
      "text/plain": [
       "dtype('int64')"
      ]
     },
     "execution_count": 26,
     "metadata": {},
     "output_type": "execute_result"
    }
   ],
   "source": [
    "data['인구수'].dtypes"
   ]
  },
  {
   "cell_type": "code",
   "execution_count": 27,
   "id": "e7660fbc-6b22-4ba1-820e-e36dce358bb1",
   "metadata": {},
   "outputs": [
    {
     "data": {
      "text/html": [
       "<div>\n",
       "<style scoped>\n",
       "    .dataframe tbody tr th:only-of-type {\n",
       "        vertical-align: middle;\n",
       "    }\n",
       "\n",
       "    .dataframe tbody tr th {\n",
       "        vertical-align: top;\n",
       "    }\n",
       "\n",
       "    .dataframe thead th {\n",
       "        text-align: right;\n",
       "    }\n",
       "</style>\n",
       "<table border=\"1\" class=\"dataframe\">\n",
       "  <thead>\n",
       "    <tr style=\"text-align: right;\">\n",
       "      <th></th>\n",
       "      <th>Unnamed: 0</th>\n",
       "      <th>인구수</th>\n",
       "      <th>x</th>\n",
       "      <th>y</th>\n",
       "      <th>면적</th>\n",
       "    </tr>\n",
       "  </thead>\n",
       "  <tbody>\n",
       "    <tr>\n",
       "      <th>count</th>\n",
       "      <td>229.000000</td>\n",
       "      <td>2.290000e+02</td>\n",
       "      <td>229.000000</td>\n",
       "      <td>229.000000</td>\n",
       "      <td>229.000000</td>\n",
       "    </tr>\n",
       "    <tr>\n",
       "      <th>mean</th>\n",
       "      <td>114.000000</td>\n",
       "      <td>2.110898e+05</td>\n",
       "      <td>6.117904</td>\n",
       "      <td>11.262009</td>\n",
       "      <td>435.419795</td>\n",
       "    </tr>\n",
       "    <tr>\n",
       "      <th>std</th>\n",
       "      <td>66.250786</td>\n",
       "      <td>2.074378e+05</td>\n",
       "      <td>3.320469</td>\n",
       "      <td>6.040898</td>\n",
       "      <td>381.612549</td>\n",
       "    </tr>\n",
       "    <tr>\n",
       "      <th>min</th>\n",
       "      <td>0.000000</td>\n",
       "      <td>8.392000e+03</td>\n",
       "      <td>0.000000</td>\n",
       "      <td>0.000000</td>\n",
       "      <td>2.800000</td>\n",
       "    </tr>\n",
       "    <tr>\n",
       "      <th>25%</th>\n",
       "      <td>57.000000</td>\n",
       "      <td>4.955900e+04</td>\n",
       "      <td>3.000000</td>\n",
       "      <td>6.000000</td>\n",
       "      <td>54.000000</td>\n",
       "    </tr>\n",
       "    <tr>\n",
       "      <th>50%</th>\n",
       "      <td>114.000000</td>\n",
       "      <td>1.401590e+05</td>\n",
       "      <td>6.000000</td>\n",
       "      <td>11.000000</td>\n",
       "      <td>436.400000</td>\n",
       "    </tr>\n",
       "    <tr>\n",
       "      <th>75%</th>\n",
       "      <td>171.000000</td>\n",
       "      <td>3.216180e+05</td>\n",
       "      <td>9.000000</td>\n",
       "      <td>16.000000</td>\n",
       "      <td>692.800000</td>\n",
       "    </tr>\n",
       "    <tr>\n",
       "      <th>max</th>\n",
       "      <td>228.000000</td>\n",
       "      <td>1.125461e+06</td>\n",
       "      <td>13.000000</td>\n",
       "      <td>25.000000</td>\n",
       "      <td>1817.940000</td>\n",
       "    </tr>\n",
       "  </tbody>\n",
       "</table>\n",
       "</div>"
      ],
      "text/plain": [
       "       Unnamed: 0           인구수           x           y           면적\n",
       "count  229.000000  2.290000e+02  229.000000  229.000000   229.000000\n",
       "mean   114.000000  2.110898e+05    6.117904   11.262009   435.419795\n",
       "std     66.250786  2.074378e+05    3.320469    6.040898   381.612549\n",
       "min      0.000000  8.392000e+03    0.000000    0.000000     2.800000\n",
       "25%     57.000000  4.955900e+04    3.000000    6.000000    54.000000\n",
       "50%    114.000000  1.401590e+05    6.000000   11.000000   436.400000\n",
       "75%    171.000000  3.216180e+05    9.000000   16.000000   692.800000\n",
       "max    228.000000  1.125461e+06   13.000000   25.000000  1817.940000"
      ]
     },
     "execution_count": 27,
     "metadata": {},
     "output_type": "execute_result"
    }
   ],
   "source": [
    "data.describe()"
   ]
  },
  {
   "cell_type": "code",
   "execution_count": 28,
   "id": "59ea153c-f02f-4a5a-8a28-176c58689bb1",
   "metadata": {},
   "outputs": [
    {
     "name": "stdout",
     "output_type": "stream",
     "text": [
      "<class 'pandas.core.series.Series'>\n"
     ]
    },
    {
     "data": {
      "text/plain": [
       "0      202520\n",
       "1       25589\n",
       "2       86747\n",
       "3       63986\n",
       "4       76733\n",
       "        ...  \n",
       "224    127462\n",
       "225     34480\n",
       "226     62809\n",
       "227    790216\n",
       "228    198077\n",
       "Name: 인구수, Length: 229, dtype: int64"
      ]
     },
     "execution_count": 28,
     "metadata": {},
     "output_type": "execute_result"
    }
   ],
   "source": [
    "# 인구수 1개의 컬럼 선택\n",
    "print(type(data['인구수']))\n",
    "data['인구수']"
   ]
  },
  {
   "cell_type": "code",
   "execution_count": 29,
   "id": "9d1d374a-4dd5-4799-9bb5-73cf5d6b4dfc",
   "metadata": {},
   "outputs": [
    {
     "name": "stdout",
     "output_type": "stream",
     "text": [
      "인구수 최대값 1125461\n",
      "인구수 최소값 8392\n",
      "인구수 평균 211089.77729257641\n",
      "인구수 표준편차 207437.8370475227\n",
      "인구수 중간값 140159.0\n"
     ]
    },
    {
     "data": {
      "text/plain": [
       "0.25     49559.0\n",
       "0.75    321618.0\n",
       "Name: 인구수, dtype: float64"
      ]
     },
     "execution_count": 29,
     "metadata": {},
     "output_type": "execute_result"
    }
   ],
   "source": [
    "# 인구수 컬럼의 집계함수\n",
    "print(f\"인구수 최대값 {data['인구수'].max()}\")\n",
    "print(f\"인구수 최소값 {data['인구수'].min()}\")\n",
    "print(f\"인구수 평균 {data['인구수'].mean()}\")\n",
    "print(f\"인구수 표준편차 {data['인구수'].std()}\")\n",
    "print(f\"인구수 중간값 {data['인구수'].median()}\")\n",
    "data['인구수'].quantile([0.25, 0.75])"
   ]
  },
  {
   "cell_type": "code",
   "execution_count": 31,
   "id": "dc611e1a-f204-4e22-9d64-82151e0e1ac1",
   "metadata": {},
   "outputs": [
    {
     "data": {
      "text/html": [
       "<div>\n",
       "<style scoped>\n",
       "    .dataframe tbody tr th:only-of-type {\n",
       "        vertical-align: middle;\n",
       "    }\n",
       "\n",
       "    .dataframe tbody tr th {\n",
       "        vertical-align: top;\n",
       "    }\n",
       "\n",
       "    .dataframe thead th {\n",
       "        text-align: right;\n",
       "    }\n",
       "</style>\n",
       "<table border=\"1\" class=\"dataframe\">\n",
       "  <thead>\n",
       "    <tr style=\"text-align: right;\">\n",
       "      <th></th>\n",
       "      <th>Unnamed: 0</th>\n",
       "      <th>인구수</th>\n",
       "      <th>shortName</th>\n",
       "      <th>x</th>\n",
       "      <th>y</th>\n",
       "      <th>면적</th>\n",
       "      <th>광역시도</th>\n",
       "      <th>행정구역</th>\n",
       "    </tr>\n",
       "  </thead>\n",
       "  <tbody>\n",
       "    <tr>\n",
       "      <th>30</th>\n",
       "      <td>30</td>\n",
       "      <td>1125461</td>\n",
       "      <td>수원</td>\n",
       "      <td>6</td>\n",
       "      <td>9</td>\n",
       "      <td>121.09</td>\n",
       "      <td>경기도</td>\n",
       "      <td>수원시</td>\n",
       "    </tr>\n",
       "  </tbody>\n",
       "</table>\n",
       "</div>"
      ],
      "text/plain": [
       "    Unnamed: 0      인구수 shortName  x  y      면적 광역시도 행정구역\n",
       "30          30  1125461        수원  6  9  121.09  경기도  수원시"
      ]
     },
     "execution_count": 31,
     "metadata": {},
     "output_type": "execute_result"
    }
   ],
   "source": [
    "max_pop = data['인구수'].max()\n",
    "data.loc[data['인구수'] == max_pop]"
   ]
  },
  {
   "cell_type": "code",
   "execution_count": 33,
   "id": "979bff09-d406-4232-b875-2db930322237",
   "metadata": {},
   "outputs": [
    {
     "data": {
      "text/plain": [
       "array(['강원도', '경기도', '경상남도', '경상북도', '광주광역시', '대구광역시', '대전광역시', '부산광역시',\n",
       "       '서울특별시', '세종특별자치시', '울산광역시', '인천광역시', '전라남도', '전라북도', '제주특별자치도',\n",
       "       '충청남도', '충청북도'], dtype=object)"
      ]
     },
     "execution_count": 33,
     "metadata": {},
     "output_type": "execute_result"
    }
   ],
   "source": [
    "# unique한 광역시도명\n",
    "data['광역시도'].unique()"
   ]
  },
  {
   "cell_type": "code",
   "execution_count": 34,
   "id": "0e888a3d-5789-4f1a-aa47-e16308e6c3f2",
   "metadata": {},
   "outputs": [
    {
     "data": {
      "text/plain": [
       "경기도        31\n",
       "서울특별시      25\n",
       "경상북도       23\n",
       "전라남도       22\n",
       "강원도        18\n",
       "경상남도       18\n",
       "부산광역시      16\n",
       "충청남도       15\n",
       "전라북도       14\n",
       "충청북도       11\n",
       "인천광역시      10\n",
       "대구광역시       8\n",
       "대전광역시       5\n",
       "광주광역시       5\n",
       "울산광역시       5\n",
       "제주특별자치도     2\n",
       "세종특별자치시     1\n",
       "Name: 광역시도, dtype: int64"
      ]
     },
     "execution_count": 34,
     "metadata": {},
     "output_type": "execute_result"
    }
   ],
   "source": [
    "# 광역시도 row counting\n",
    "data['광역시도'].value_counts()"
   ]
  },
  {
   "cell_type": "code",
   "execution_count": 45,
   "id": "3373059c-6854-4337-a290-fa21800196fa",
   "metadata": {},
   "outputs": [
    {
     "data": {
      "text/html": [
       "<div>\n",
       "<style scoped>\n",
       "    .dataframe tbody tr th:only-of-type {\n",
       "        vertical-align: middle;\n",
       "    }\n",
       "\n",
       "    .dataframe tbody tr th {\n",
       "        vertical-align: top;\n",
       "    }\n",
       "\n",
       "    .dataframe thead th {\n",
       "        text-align: right;\n",
       "    }\n",
       "</style>\n",
       "<table border=\"1\" class=\"dataframe\">\n",
       "  <thead>\n",
       "    <tr style=\"text-align: right;\">\n",
       "      <th></th>\n",
       "      <th>행정구역</th>\n",
       "      <th>면적</th>\n",
       "      <th>인구수</th>\n",
       "    </tr>\n",
       "  </thead>\n",
       "  <tbody>\n",
       "    <tr>\n",
       "      <th>0</th>\n",
       "      <td>수원시</td>\n",
       "      <td>121.090</td>\n",
       "      <td>1125461</td>\n",
       "    </tr>\n",
       "    <tr>\n",
       "      <th>1</th>\n",
       "      <td>고양시</td>\n",
       "      <td>267.330</td>\n",
       "      <td>955384</td>\n",
       "    </tr>\n",
       "    <tr>\n",
       "      <th>2</th>\n",
       "      <td>용인시</td>\n",
       "      <td>591.500</td>\n",
       "      <td>915005</td>\n",
       "    </tr>\n",
       "    <tr>\n",
       "      <th>3</th>\n",
       "      <td>성남시</td>\n",
       "      <td>141.820</td>\n",
       "      <td>911628</td>\n",
       "    </tr>\n",
       "    <tr>\n",
       "      <th>4</th>\n",
       "      <td>부천시</td>\n",
       "      <td>53.440</td>\n",
       "      <td>805473</td>\n",
       "    </tr>\n",
       "    <tr>\n",
       "      <th>5</th>\n",
       "      <td>안산시</td>\n",
       "      <td>144.780</td>\n",
       "      <td>668089</td>\n",
       "    </tr>\n",
       "    <tr>\n",
       "      <th>6</th>\n",
       "      <td>남양주시</td>\n",
       "      <td>458.440</td>\n",
       "      <td>610300</td>\n",
       "    </tr>\n",
       "    <tr>\n",
       "      <th>7</th>\n",
       "      <td>안양시</td>\n",
       "      <td>58.520</td>\n",
       "      <td>566558</td>\n",
       "    </tr>\n",
       "    <tr>\n",
       "      <th>8</th>\n",
       "      <td>화성시</td>\n",
       "      <td>688.100</td>\n",
       "      <td>555129</td>\n",
       "    </tr>\n",
       "    <tr>\n",
       "      <th>9</th>\n",
       "      <td>평택시</td>\n",
       "      <td>452.310</td>\n",
       "      <td>423763</td>\n",
       "    </tr>\n",
       "    <tr>\n",
       "      <th>10</th>\n",
       "      <td>의정부시</td>\n",
       "      <td>81.590</td>\n",
       "      <td>408220</td>\n",
       "    </tr>\n",
       "    <tr>\n",
       "      <th>11</th>\n",
       "      <td>파주시</td>\n",
       "      <td>672.560</td>\n",
       "      <td>385528</td>\n",
       "    </tr>\n",
       "    <tr>\n",
       "      <th>12</th>\n",
       "      <td>시흥시</td>\n",
       "      <td>134.400</td>\n",
       "      <td>381412</td>\n",
       "    </tr>\n",
       "    <tr>\n",
       "      <th>13</th>\n",
       "      <td>광명시</td>\n",
       "      <td>38.500</td>\n",
       "      <td>327111</td>\n",
       "    </tr>\n",
       "    <tr>\n",
       "      <th>14</th>\n",
       "      <td>김포시</td>\n",
       "      <td>276.640</td>\n",
       "      <td>326523</td>\n",
       "    </tr>\n",
       "    <tr>\n",
       "      <th>15</th>\n",
       "      <td>광주시</td>\n",
       "      <td>431.840</td>\n",
       "      <td>290210</td>\n",
       "    </tr>\n",
       "    <tr>\n",
       "      <th>16</th>\n",
       "      <td>군포시</td>\n",
       "      <td>36.350</td>\n",
       "      <td>273302</td>\n",
       "    </tr>\n",
       "    <tr>\n",
       "      <th>17</th>\n",
       "      <td>오산시</td>\n",
       "      <td>42.740</td>\n",
       "      <td>200793</td>\n",
       "    </tr>\n",
       "    <tr>\n",
       "      <th>18</th>\n",
       "      <td>양주시</td>\n",
       "      <td>310.310</td>\n",
       "      <td>191266</td>\n",
       "    </tr>\n",
       "    <tr>\n",
       "      <th>19</th>\n",
       "      <td>이천시</td>\n",
       "      <td>461.020</td>\n",
       "      <td>190537</td>\n",
       "    </tr>\n",
       "    <tr>\n",
       "      <th>20</th>\n",
       "      <td>구리시</td>\n",
       "      <td>33.300</td>\n",
       "      <td>175676</td>\n",
       "    </tr>\n",
       "    <tr>\n",
       "      <th>21</th>\n",
       "      <td>안성시</td>\n",
       "      <td>554.200</td>\n",
       "      <td>173061</td>\n",
       "    </tr>\n",
       "    <tr>\n",
       "      <th>22</th>\n",
       "      <td>하남시</td>\n",
       "      <td>93.100</td>\n",
       "      <td>150061</td>\n",
       "    </tr>\n",
       "    <tr>\n",
       "      <th>23</th>\n",
       "      <td>의왕시</td>\n",
       "      <td>54.000</td>\n",
       "      <td>149080</td>\n",
       "    </tr>\n",
       "    <tr>\n",
       "      <th>24</th>\n",
       "      <td>포천시</td>\n",
       "      <td>826.380</td>\n",
       "      <td>140159</td>\n",
       "    </tr>\n",
       "    <tr>\n",
       "      <th>25</th>\n",
       "      <td>여주시</td>\n",
       "      <td>608.640</td>\n",
       "      <td>100669</td>\n",
       "    </tr>\n",
       "    <tr>\n",
       "      <th>26</th>\n",
       "      <td>양평군</td>\n",
       "      <td>877.080</td>\n",
       "      <td>95614</td>\n",
       "    </tr>\n",
       "    <tr>\n",
       "      <th>27</th>\n",
       "      <td>동두천시</td>\n",
       "      <td>95.680</td>\n",
       "      <td>90398</td>\n",
       "    </tr>\n",
       "    <tr>\n",
       "      <th>28</th>\n",
       "      <td>과천시</td>\n",
       "      <td>35.813</td>\n",
       "      <td>63227</td>\n",
       "    </tr>\n",
       "    <tr>\n",
       "      <th>29</th>\n",
       "      <td>가평군</td>\n",
       "      <td>843.040</td>\n",
       "      <td>53497</td>\n",
       "    </tr>\n",
       "    <tr>\n",
       "      <th>30</th>\n",
       "      <td>연천군</td>\n",
       "      <td>695.230</td>\n",
       "      <td>41076</td>\n",
       "    </tr>\n",
       "  </tbody>\n",
       "</table>\n",
       "</div>"
      ],
      "text/plain": [
       "    행정구역       면적      인구수\n",
       "0    수원시  121.090  1125461\n",
       "1    고양시  267.330   955384\n",
       "2    용인시  591.500   915005\n",
       "3    성남시  141.820   911628\n",
       "4    부천시   53.440   805473\n",
       "5    안산시  144.780   668089\n",
       "6   남양주시  458.440   610300\n",
       "7    안양시   58.520   566558\n",
       "8    화성시  688.100   555129\n",
       "9    평택시  452.310   423763\n",
       "10  의정부시   81.590   408220\n",
       "11   파주시  672.560   385528\n",
       "12   시흥시  134.400   381412\n",
       "13   광명시   38.500   327111\n",
       "14   김포시  276.640   326523\n",
       "15   광주시  431.840   290210\n",
       "16   군포시   36.350   273302\n",
       "17   오산시   42.740   200793\n",
       "18   양주시  310.310   191266\n",
       "19   이천시  461.020   190537\n",
       "20   구리시   33.300   175676\n",
       "21   안성시  554.200   173061\n",
       "22   하남시   93.100   150061\n",
       "23   의왕시   54.000   149080\n",
       "24   포천시  826.380   140159\n",
       "25   여주시  608.640   100669\n",
       "26   양평군  877.080    95614\n",
       "27  동두천시   95.680    90398\n",
       "28   과천시   35.813    63227\n",
       "29   가평군  843.040    53497\n",
       "30   연천군  695.230    41076"
      ]
     },
     "execution_count": 45,
     "metadata": {},
     "output_type": "execute_result"
    }
   ],
   "source": [
    "#경기도에 속한 행정구역,인구수,면적 출력하기\n",
    "# loc[]\n",
    "gy_df = data.loc[data['광역시도'] == '경기도',['행정구역','면적','인구수']].sort_values(by='인구수',ascending=False)\\\n",
    ".reset_index(drop=True)\n",
    "gy_df"
   ]
  },
  {
   "cell_type": "code",
   "execution_count": 46,
   "id": "f0f3a42e-ff17-4d30-81e6-2494ac385a86",
   "metadata": {},
   "outputs": [
    {
     "name": "stdout",
     "output_type": "stream",
     "text": [
      "경기도 인구수 평균 = 378845.48387096776\n",
      "경기도 인구수 편차 = 304548.39514203876\n"
     ]
    }
   ],
   "source": [
    "#경기도 인구수의 평균과 표준편차\n",
    "print(f\"경기도 인구수 평균 = {gy_df['인구수'].mean()}\")\n",
    "print(f\"경기도 인구수 편차 = {gy_df['인구수'].std()}\")"
   ]
  },
  {
   "cell_type": "code",
   "execution_count": 47,
   "id": "de1c296c-42d2-488a-b5c7-f6fbc730422a",
   "metadata": {},
   "outputs": [],
   "source": [
    "def pop_mean_std(sido_name):\n",
    "    sido_df = data.loc[data['광역시도'] == sido_name,'인구수':'행정구역']\n",
    "    print(f\"{sido_name} 인구수 평균 = {sido_df['인구수'].mean()}\")\n",
    "    print(f\"{sido_name} 인구수 편차 = {sido_df['인구수'].std()}\")"
   ]
  },
  {
   "cell_type": "code",
   "execution_count": 48,
   "id": "47d18c07-e3be-4872-b045-4ae1d8737822",
   "metadata": {},
   "outputs": [
    {
     "name": "stdout",
     "output_type": "stream",
     "text": [
      "서울특별시 인구수 평균 = 375792.28\n",
      "서울특별시 인구수 편차 = 125231.24797500289\n"
     ]
    }
   ],
   "source": [
    "pop_mean_std('서울특별시')"
   ]
  },
  {
   "cell_type": "code",
   "execution_count": 49,
   "id": "e71a64dc-13b1-4aa9-a8a8-4aef463889a1",
   "metadata": {},
   "outputs": [
    {
     "name": "stdout",
     "output_type": "stream",
     "text": [
      "부산광역시 인구수 평균 = 207724.4375\n",
      "부산광역시 인구수 편차 = 106246.04138380481\n"
     ]
    }
   ],
   "source": [
    "pop_mean_std('부산광역시')"
   ]
  },
  {
   "cell_type": "code",
   "execution_count": 51,
   "id": "ddd31c86-1362-4dd2-914a-1056f30fdd74",
   "metadata": {},
   "outputs": [
    {
     "name": "stdout",
     "output_type": "stream",
     "text": [
      "강원도 인구수 평균 = 79413.22222222222\n",
      "강원도 인구수 편차 = 87316.38323837094\n",
      "경기도 인구수 평균 = 378845.48387096776\n",
      "경기도 인구수 편차 = 304548.39514203876\n",
      "경상남도 인구수 평균 = 174693.72222222222\n",
      "경상남도 인구수 편차 = 245796.4650767224\n",
      "경상북도 인구수 평균 = 109085.39130434782\n",
      "경상북도 인구수 편차 = 124954.74088490057\n",
      "광주광역시 인구수 평균 = 287641.8\n",
      "광주광역시 인구수 편차 = 137076.68320578814\n",
      "대구광역시 인구수 평균 = 297306.25\n",
      "대구광역시 인구수 편차 = 174375.39437968715\n",
      "대전광역시 인구수 평균 = 293535.4\n",
      "대전광역시 인구수 편차 = 111853.57188217103\n",
      "부산광역시 인구수 평균 = 207724.4375\n",
      "부산광역시 인구수 편차 = 106246.04138380481\n",
      "서울특별시 인구수 평균 = 375792.28\n",
      "서울특별시 인구수 편차 = 125231.24797500289\n",
      "세종특별자치시 인구수 평균 = 191233.0\n",
      "세종특별자치시 인구수 편차 = nan\n",
      "울산광역시 인구수 평균 = 221117.0\n",
      "울산광역시 인구수 편차 = 64163.28658196991\n",
      "인천광역시 인구수 평균 = 276657.5\n",
      "인천광역시 인구수 편차 = 199353.5964908417\n",
      "전라남도 인구수 평균 = 77298.31818181818\n",
      "전라남도 인구수 편차 = 74413.25322969875\n",
      "전라북도 인구수 평균 = 124217.71428571429\n",
      "전라북도 인구수 편차 = 168327.13482128442\n",
      "제주특별자치도 인구수 평균 = 287936.5\n",
      "제주특별자치도 인구수 편차 = 201620.89205362622\n",
      "충청남도 인구수 평균 = 129741.93333333333\n",
      "충청남도 인구수 편차 = 141125.1080796583\n",
      "충청북도 인구수 평균 = 134974.54545454544\n",
      "충청북도 인구수 편차 = 223460.35665744546\n"
     ]
    }
   ],
   "source": [
    "for sido_name in data['광역시도'].unique():\n",
    "    pop_mean_std(sido_name)"
   ]
  },
  {
   "cell_type": "markdown",
   "id": "01010d6b-b058-4e5f-a254-19864f1b44ee",
   "metadata": {},
   "source": [
    "#### Row, Column Selection\n",
    "* loc[ ] 과 iloc[ ] 사용하기"
   ]
  },
  {
   "cell_type": "code",
   "execution_count": 52,
   "id": "503a5b7c-4f5e-4178-bbba-2a7367fe9786",
   "metadata": {},
   "outputs": [
    {
     "data": {
      "text/html": [
       "<div>\n",
       "<style scoped>\n",
       "    .dataframe tbody tr th:only-of-type {\n",
       "        vertical-align: middle;\n",
       "    }\n",
       "\n",
       "    .dataframe tbody tr th {\n",
       "        vertical-align: top;\n",
       "    }\n",
       "\n",
       "    .dataframe thead th {\n",
       "        text-align: right;\n",
       "    }\n",
       "</style>\n",
       "<table border=\"1\" class=\"dataframe\">\n",
       "  <thead>\n",
       "    <tr style=\"text-align: right;\">\n",
       "      <th></th>\n",
       "      <th>Unnamed: 0</th>\n",
       "      <th>인구수</th>\n",
       "      <th>shortName</th>\n",
       "      <th>x</th>\n",
       "      <th>y</th>\n",
       "      <th>면적</th>\n",
       "      <th>광역시도</th>\n",
       "      <th>행정구역</th>\n",
       "    </tr>\n",
       "  </thead>\n",
       "  <tbody>\n",
       "    <tr>\n",
       "      <th>20</th>\n",
       "      <td>20</td>\n",
       "      <td>63227</td>\n",
       "      <td>과천</td>\n",
       "      <td>7</td>\n",
       "      <td>7</td>\n",
       "      <td>35.813</td>\n",
       "      <td>경기도</td>\n",
       "      <td>과천시</td>\n",
       "    </tr>\n",
       "    <tr>\n",
       "      <th>21</th>\n",
       "      <td>21</td>\n",
       "      <td>327111</td>\n",
       "      <td>광명</td>\n",
       "      <td>3</td>\n",
       "      <td>3</td>\n",
       "      <td>38.500</td>\n",
       "      <td>경기도</td>\n",
       "      <td>광명시</td>\n",
       "    </tr>\n",
       "    <tr>\n",
       "      <th>22</th>\n",
       "      <td>22</td>\n",
       "      <td>290210</td>\n",
       "      <td>광주</td>\n",
       "      <td>8</td>\n",
       "      <td>7</td>\n",
       "      <td>431.840</td>\n",
       "      <td>경기도</td>\n",
       "      <td>광주시</td>\n",
       "    </tr>\n",
       "    <tr>\n",
       "      <th>23</th>\n",
       "      <td>23</td>\n",
       "      <td>175676</td>\n",
       "      <td>구리</td>\n",
       "      <td>9</td>\n",
       "      <td>4</td>\n",
       "      <td>33.300</td>\n",
       "      <td>경기도</td>\n",
       "      <td>구리시</td>\n",
       "    </tr>\n",
       "    <tr>\n",
       "      <th>24</th>\n",
       "      <td>24</td>\n",
       "      <td>273302</td>\n",
       "      <td>군포</td>\n",
       "      <td>5</td>\n",
       "      <td>8</td>\n",
       "      <td>36.350</td>\n",
       "      <td>경기도</td>\n",
       "      <td>군포시</td>\n",
       "    </tr>\n",
       "    <tr>\n",
       "      <th>25</th>\n",
       "      <td>25</td>\n",
       "      <td>326523</td>\n",
       "      <td>김포</td>\n",
       "      <td>2</td>\n",
       "      <td>3</td>\n",
       "      <td>276.640</td>\n",
       "      <td>경기도</td>\n",
       "      <td>김포시</td>\n",
       "    </tr>\n",
       "  </tbody>\n",
       "</table>\n",
       "</div>"
      ],
      "text/plain": [
       "    Unnamed: 0     인구수 shortName  x  y       면적 광역시도 행정구역\n",
       "20          20   63227        과천  7  7   35.813  경기도  과천시\n",
       "21          21  327111        광명  3  3   38.500  경기도  광명시\n",
       "22          22  290210        광주  8  7  431.840  경기도  광주시\n",
       "23          23  175676        구리  9  4   33.300  경기도  구리시\n",
       "24          24  273302        군포  5  8   36.350  경기도  군포시\n",
       "25          25  326523        김포  2  3  276.640  경기도  김포시"
      ]
     },
     "execution_count": 52,
     "metadata": {},
     "output_type": "execute_result"
    }
   ],
   "source": [
    "#loc[] 사용\n",
    "#인덱스가 20 부터 25까지\n",
    "data.loc[20:25]"
   ]
  },
  {
   "cell_type": "code",
   "execution_count": 53,
   "id": "3ada810d-27f4-4af7-baff-5bc97cc97def",
   "metadata": {},
   "outputs": [
    {
     "data": {
      "text/html": [
       "<div>\n",
       "<style scoped>\n",
       "    .dataframe tbody tr th:only-of-type {\n",
       "        vertical-align: middle;\n",
       "    }\n",
       "\n",
       "    .dataframe tbody tr th {\n",
       "        vertical-align: top;\n",
       "    }\n",
       "\n",
       "    .dataframe thead th {\n",
       "        text-align: right;\n",
       "    }\n",
       "</style>\n",
       "<table border=\"1\" class=\"dataframe\">\n",
       "  <thead>\n",
       "    <tr style=\"text-align: right;\">\n",
       "      <th></th>\n",
       "      <th>Unnamed: 0</th>\n",
       "      <th>인구수</th>\n",
       "      <th>shortName</th>\n",
       "      <th>x</th>\n",
       "      <th>y</th>\n",
       "      <th>면적</th>\n",
       "      <th>광역시도</th>\n",
       "      <th>행정구역</th>\n",
       "    </tr>\n",
       "  </thead>\n",
       "  <tbody>\n",
       "    <tr>\n",
       "      <th>20</th>\n",
       "      <td>20</td>\n",
       "      <td>63227</td>\n",
       "      <td>과천</td>\n",
       "      <td>7</td>\n",
       "      <td>7</td>\n",
       "      <td>35.813</td>\n",
       "      <td>경기도</td>\n",
       "      <td>과천시</td>\n",
       "    </tr>\n",
       "    <tr>\n",
       "      <th>21</th>\n",
       "      <td>21</td>\n",
       "      <td>327111</td>\n",
       "      <td>광명</td>\n",
       "      <td>3</td>\n",
       "      <td>3</td>\n",
       "      <td>38.500</td>\n",
       "      <td>경기도</td>\n",
       "      <td>광명시</td>\n",
       "    </tr>\n",
       "    <tr>\n",
       "      <th>22</th>\n",
       "      <td>22</td>\n",
       "      <td>290210</td>\n",
       "      <td>광주</td>\n",
       "      <td>8</td>\n",
       "      <td>7</td>\n",
       "      <td>431.840</td>\n",
       "      <td>경기도</td>\n",
       "      <td>광주시</td>\n",
       "    </tr>\n",
       "    <tr>\n",
       "      <th>23</th>\n",
       "      <td>23</td>\n",
       "      <td>175676</td>\n",
       "      <td>구리</td>\n",
       "      <td>9</td>\n",
       "      <td>4</td>\n",
       "      <td>33.300</td>\n",
       "      <td>경기도</td>\n",
       "      <td>구리시</td>\n",
       "    </tr>\n",
       "    <tr>\n",
       "      <th>24</th>\n",
       "      <td>24</td>\n",
       "      <td>273302</td>\n",
       "      <td>군포</td>\n",
       "      <td>5</td>\n",
       "      <td>8</td>\n",
       "      <td>36.350</td>\n",
       "      <td>경기도</td>\n",
       "      <td>군포시</td>\n",
       "    </tr>\n",
       "  </tbody>\n",
       "</table>\n",
       "</div>"
      ],
      "text/plain": [
       "    Unnamed: 0     인구수 shortName  x  y       면적 광역시도 행정구역\n",
       "20          20   63227        과천  7  7   35.813  경기도  과천시\n",
       "21          21  327111        광명  3  3   38.500  경기도  광명시\n",
       "22          22  290210        광주  8  7  431.840  경기도  광주시\n",
       "23          23  175676        구리  9  4   33.300  경기도  구리시\n",
       "24          24  273302        군포  5  8   36.350  경기도  군포시"
      ]
     },
     "execution_count": 53,
     "metadata": {},
     "output_type": "execute_result"
    }
   ],
   "source": [
    "#iloc[] 사용\n",
    "#인덱스가 20 부터 25까지\n",
    "data.iloc[20:25]"
   ]
  },
  {
   "cell_type": "code",
   "execution_count": 54,
   "id": "92ce4003-0186-4b77-afbd-c4dec26a14a8",
   "metadata": {},
   "outputs": [
    {
     "data": {
      "text/html": [
       "<div>\n",
       "<style scoped>\n",
       "    .dataframe tbody tr th:only-of-type {\n",
       "        vertical-align: middle;\n",
       "    }\n",
       "\n",
       "    .dataframe tbody tr th {\n",
       "        vertical-align: top;\n",
       "    }\n",
       "\n",
       "    .dataframe thead th {\n",
       "        text-align: right;\n",
       "    }\n",
       "</style>\n",
       "<table border=\"1\" class=\"dataframe\">\n",
       "  <thead>\n",
       "    <tr style=\"text-align: right;\">\n",
       "      <th></th>\n",
       "      <th>인구수</th>\n",
       "      <th>shortName</th>\n",
       "      <th>x</th>\n",
       "      <th>y</th>\n",
       "      <th>면적</th>\n",
       "      <th>광역시도</th>\n",
       "    </tr>\n",
       "  </thead>\n",
       "  <tbody>\n",
       "    <tr>\n",
       "      <th>20</th>\n",
       "      <td>63227</td>\n",
       "      <td>과천</td>\n",
       "      <td>7</td>\n",
       "      <td>7</td>\n",
       "      <td>35.813</td>\n",
       "      <td>경기도</td>\n",
       "    </tr>\n",
       "    <tr>\n",
       "      <th>21</th>\n",
       "      <td>327111</td>\n",
       "      <td>광명</td>\n",
       "      <td>3</td>\n",
       "      <td>3</td>\n",
       "      <td>38.500</td>\n",
       "      <td>경기도</td>\n",
       "    </tr>\n",
       "    <tr>\n",
       "      <th>22</th>\n",
       "      <td>290210</td>\n",
       "      <td>광주</td>\n",
       "      <td>8</td>\n",
       "      <td>7</td>\n",
       "      <td>431.840</td>\n",
       "      <td>경기도</td>\n",
       "    </tr>\n",
       "    <tr>\n",
       "      <th>23</th>\n",
       "      <td>175676</td>\n",
       "      <td>구리</td>\n",
       "      <td>9</td>\n",
       "      <td>4</td>\n",
       "      <td>33.300</td>\n",
       "      <td>경기도</td>\n",
       "    </tr>\n",
       "    <tr>\n",
       "      <th>24</th>\n",
       "      <td>273302</td>\n",
       "      <td>군포</td>\n",
       "      <td>5</td>\n",
       "      <td>8</td>\n",
       "      <td>36.350</td>\n",
       "      <td>경기도</td>\n",
       "    </tr>\n",
       "    <tr>\n",
       "      <th>25</th>\n",
       "      <td>326523</td>\n",
       "      <td>김포</td>\n",
       "      <td>2</td>\n",
       "      <td>3</td>\n",
       "      <td>276.640</td>\n",
       "      <td>경기도</td>\n",
       "    </tr>\n",
       "  </tbody>\n",
       "</table>\n",
       "</div>"
      ],
      "text/plain": [
       "       인구수 shortName  x  y       면적 광역시도\n",
       "20   63227        과천  7  7   35.813  경기도\n",
       "21  327111        광명  3  3   38.500  경기도\n",
       "22  290210        광주  8  7  431.840  경기도\n",
       "23  175676        구리  9  4   33.300  경기도\n",
       "24  273302        군포  5  8   36.350  경기도\n",
       "25  326523        김포  2  3  276.640  경기도"
      ]
     },
     "execution_count": 54,
     "metadata": {},
     "output_type": "execute_result"
    }
   ],
   "source": [
    "#인덱스가 20 부터 25까지 컬럼이 인구수부터 광역시도 까지\n",
    "data.loc[20:25, '인구수':'광역시도']"
   ]
  },
  {
   "cell_type": "code",
   "execution_count": 55,
   "id": "dce4857f-0a9b-4ea2-9588-f59108a14442",
   "metadata": {},
   "outputs": [
    {
     "data": {
      "text/html": [
       "<div>\n",
       "<style scoped>\n",
       "    .dataframe tbody tr th:only-of-type {\n",
       "        vertical-align: middle;\n",
       "    }\n",
       "\n",
       "    .dataframe tbody tr th {\n",
       "        vertical-align: top;\n",
       "    }\n",
       "\n",
       "    .dataframe thead th {\n",
       "        text-align: right;\n",
       "    }\n",
       "</style>\n",
       "<table border=\"1\" class=\"dataframe\">\n",
       "  <thead>\n",
       "    <tr style=\"text-align: right;\">\n",
       "      <th></th>\n",
       "      <th>인구수</th>\n",
       "      <th>shortName</th>\n",
       "      <th>x</th>\n",
       "      <th>y</th>\n",
       "      <th>면적</th>\n",
       "      <th>광역시도</th>\n",
       "    </tr>\n",
       "  </thead>\n",
       "  <tbody>\n",
       "    <tr>\n",
       "      <th>20</th>\n",
       "      <td>63227</td>\n",
       "      <td>과천</td>\n",
       "      <td>7</td>\n",
       "      <td>7</td>\n",
       "      <td>35.813</td>\n",
       "      <td>경기도</td>\n",
       "    </tr>\n",
       "    <tr>\n",
       "      <th>21</th>\n",
       "      <td>327111</td>\n",
       "      <td>광명</td>\n",
       "      <td>3</td>\n",
       "      <td>3</td>\n",
       "      <td>38.500</td>\n",
       "      <td>경기도</td>\n",
       "    </tr>\n",
       "    <tr>\n",
       "      <th>22</th>\n",
       "      <td>290210</td>\n",
       "      <td>광주</td>\n",
       "      <td>8</td>\n",
       "      <td>7</td>\n",
       "      <td>431.840</td>\n",
       "      <td>경기도</td>\n",
       "    </tr>\n",
       "    <tr>\n",
       "      <th>23</th>\n",
       "      <td>175676</td>\n",
       "      <td>구리</td>\n",
       "      <td>9</td>\n",
       "      <td>4</td>\n",
       "      <td>33.300</td>\n",
       "      <td>경기도</td>\n",
       "    </tr>\n",
       "    <tr>\n",
       "      <th>24</th>\n",
       "      <td>273302</td>\n",
       "      <td>군포</td>\n",
       "      <td>5</td>\n",
       "      <td>8</td>\n",
       "      <td>36.350</td>\n",
       "      <td>경기도</td>\n",
       "    </tr>\n",
       "  </tbody>\n",
       "</table>\n",
       "</div>"
      ],
      "text/plain": [
       "       인구수 shortName  x  y       면적 광역시도\n",
       "20   63227        과천  7  7   35.813  경기도\n",
       "21  327111        광명  3  3   38.500  경기도\n",
       "22  290210        광주  8  7  431.840  경기도\n",
       "23  175676        구리  9  4   33.300  경기도\n",
       "24  273302        군포  5  8   36.350  경기도"
      ]
     },
     "execution_count": 55,
     "metadata": {},
     "output_type": "execute_result"
    }
   ],
   "source": [
    "#iloc[] 사용\n",
    "#인덱스가 20 부터 25까지 컬럼이 인구수부터 광역시도 까지\n",
    "data.iloc[20:25,1:7]"
   ]
  },
  {
   "cell_type": "code",
   "execution_count": 56,
   "id": "e96309d2-71f8-4e6a-85bd-e756b30f40c1",
   "metadata": {},
   "outputs": [
    {
     "data": {
      "text/html": [
       "<div>\n",
       "<style scoped>\n",
       "    .dataframe tbody tr th:only-of-type {\n",
       "        vertical-align: middle;\n",
       "    }\n",
       "\n",
       "    .dataframe tbody tr th {\n",
       "        vertical-align: top;\n",
       "    }\n",
       "\n",
       "    .dataframe thead th {\n",
       "        text-align: right;\n",
       "    }\n",
       "</style>\n",
       "<table border=\"1\" class=\"dataframe\">\n",
       "  <thead>\n",
       "    <tr style=\"text-align: right;\">\n",
       "      <th></th>\n",
       "      <th>인구수</th>\n",
       "      <th>광역시도</th>\n",
       "      <th>행정구역</th>\n",
       "    </tr>\n",
       "  </thead>\n",
       "  <tbody>\n",
       "    <tr>\n",
       "      <th>40</th>\n",
       "      <td>915005</td>\n",
       "      <td>경기도</td>\n",
       "      <td>용인시</td>\n",
       "    </tr>\n",
       "    <tr>\n",
       "      <th>55</th>\n",
       "      <td>106388</td>\n",
       "      <td>경상남도</td>\n",
       "      <td>사천시</td>\n",
       "    </tr>\n",
       "    <tr>\n",
       "      <th>60</th>\n",
       "      <td>56734</td>\n",
       "      <td>경상남도</td>\n",
       "      <td>창녕군</td>\n",
       "    </tr>\n",
       "  </tbody>\n",
       "</table>\n",
       "</div>"
      ],
      "text/plain": [
       "       인구수  광역시도 행정구역\n",
       "40  915005   경기도  용인시\n",
       "55  106388  경상남도  사천시\n",
       "60   56734  경상남도  창녕군"
      ]
     },
     "execution_count": 56,
     "metadata": {},
     "output_type": "execute_result"
    }
   ],
   "source": [
    "#loc[] 사용\n",
    "#index가 40,55,60 이고, column이 인구수,광역시도,행정구역\n",
    "data.loc[[40,55,60],['인구수','광역시도','행정구역']]"
   ]
  },
  {
   "cell_type": "code",
   "execution_count": 79,
   "id": "b4ed19db-04fe-41ae-a0f1-e26fcb91536c",
   "metadata": {},
   "outputs": [
    {
     "name": "stdout",
     "output_type": "stream",
     "text": [
      "<class 'pandas.core.series.Series'>\n"
     ]
    },
    {
     "data": {
      "text/plain": [
       "인구수           202520\n",
       "shortName         강릉\n",
       "x                 11\n",
       "y                  4\n",
       "면적           1040.07\n",
       "광역시도             강원도\n",
       "행정구역             강릉시\n",
       "Name: 0, dtype: object"
      ]
     },
     "execution_count": 79,
     "metadata": {},
     "output_type": "execute_result"
    }
   ],
   "source": [
    "#인덱스가 0인 행 하나만 선택\n",
    "print(type(data.loc[0]))\n",
    "data.loc[0]"
   ]
  },
  {
   "cell_type": "code",
   "execution_count": 81,
   "id": "7a764d9d-215c-4fea-8d59-cd188c2c8ac0",
   "metadata": {},
   "outputs": [
    {
     "name": "stdout",
     "output_type": "stream",
     "text": [
      "<class 'pandas.core.series.Series'>\n"
     ]
    },
    {
     "data": {
      "text/plain": [
       "seq\n",
       "0    1040.07\n",
       "1     664.19\n",
       "2     180.01\n",
       "3    1185.80\n",
       "4     105.25\n",
       "Name: 면적, dtype: float64"
      ]
     },
     "execution_count": 81,
     "metadata": {},
     "output_type": "execute_result"
    }
   ],
   "source": [
    "#열 하나만 선택\n",
    "print(type(data['면적']))\n",
    "data['면적'].head()"
   ]
  },
  {
   "cell_type": "markdown",
   "id": "dbb983e2-322b-4cc9-9f29-53104a29283c",
   "metadata": {},
   "source": [
    "### DataFrame을 Excel 파일로 저장하기\n",
    "* 인구수가 전국평균보다 작은 지역의 광역시도,행정구역,인구수를 선택해서 DataFrame를 생성하기\n",
    "* DataFrame의 to_excel() 함수를 사용해서 Execel로 저장하기"
   ]
  },
  {
   "cell_type": "code",
   "execution_count": 60,
   "id": "3cbb0ddf-74f4-4212-80e5-553016bce5df",
   "metadata": {},
   "outputs": [
    {
     "name": "stdout",
     "output_type": "stream",
     "text": [
      "211089.77729257641\n",
      "211090\n",
      "211089.78\n"
     ]
    }
   ],
   "source": [
    "#인구수가 전국평균 보다 작은 지역(인구수,행정구역,광역시도)을 선택해서 결과를 엑셀파일로 저장하기\n",
    "pop_mean_value=data['인구수'].mean()\n",
    "print(pop_mean_value)\n",
    "print(round(pop_mean_value))\n",
    "print(f'{pop_mean_value:.2f}')\n",
    "\n",
    "pop_mean_lt_df = data.loc[data['인구수'] < pop_mean_value,['광역시도','행정구역','인구수']]\\\n",
    ".sort_values(by=['광역시도','인구수'],ascending=[True,False])\\\n",
    ".reset_index(drop=True)\n",
    "#excel 파일로 저장\n",
    "pop_mean_lt_df.to_excel('data/평균인구수미만지역.xlsx')"
   ]
  },
  {
   "cell_type": "markdown",
   "id": "099842cd-2470-4f4b-a80d-058a7ee10fd0",
   "metadata": {},
   "source": [
    "#### 컬럼명 변경\n",
    "* rename() 함수\n",
    "  - inplace=False (default) 원본 DataFrame객체를 변경하지 않고, 변경한 결과를 출력만 한다.\n",
    "  - inplace=True 원본 DataFrame객체를 변경하고, 변경한 결과를 출력하지 않는다."
   ]
  },
  {
   "cell_type": "code",
   "execution_count": 69,
   "id": "5bd0d4bd-6185-4f49-b20f-0c66ae68f019",
   "metadata": {},
   "outputs": [
    {
     "data": {
      "text/plain": [
       "Index(['seq', '인구수', 'shortName', 'x', 'y', '면적', '광역시도', '행정구역'], dtype='object')"
      ]
     },
     "execution_count": 69,
     "metadata": {},
     "output_type": "execute_result"
    }
   ],
   "source": [
    "data.columns"
   ]
  },
  {
   "cell_type": "code",
   "execution_count": 67,
   "id": "ad10d8b4-5468-44df-bbfa-8ddb7cb81172",
   "metadata": {},
   "outputs": [],
   "source": [
    "data.rename(columns={'Unnamed: 0':'seq'}, inplace=True)"
   ]
  },
  {
   "cell_type": "code",
   "execution_count": 75,
   "id": "963a666c-bed9-4dde-8d01-c487d41bfc19",
   "metadata": {},
   "outputs": [
    {
     "data": {
      "text/html": [
       "<div>\n",
       "<style scoped>\n",
       "    .dataframe tbody tr th:only-of-type {\n",
       "        vertical-align: middle;\n",
       "    }\n",
       "\n",
       "    .dataframe tbody tr th {\n",
       "        vertical-align: top;\n",
       "    }\n",
       "\n",
       "    .dataframe thead th {\n",
       "        text-align: right;\n",
       "    }\n",
       "</style>\n",
       "<table border=\"1\" class=\"dataframe\">\n",
       "  <thead>\n",
       "    <tr style=\"text-align: right;\">\n",
       "      <th></th>\n",
       "      <th>인구수</th>\n",
       "      <th>shortName</th>\n",
       "      <th>x</th>\n",
       "      <th>y</th>\n",
       "      <th>면적</th>\n",
       "      <th>광역시도</th>\n",
       "      <th>행정구역</th>\n",
       "    </tr>\n",
       "    <tr>\n",
       "      <th>seq</th>\n",
       "      <th></th>\n",
       "      <th></th>\n",
       "      <th></th>\n",
       "      <th></th>\n",
       "      <th></th>\n",
       "      <th></th>\n",
       "      <th></th>\n",
       "    </tr>\n",
       "  </thead>\n",
       "  <tbody>\n",
       "    <tr>\n",
       "      <th>0</th>\n",
       "      <td>202520</td>\n",
       "      <td>강릉</td>\n",
       "      <td>11</td>\n",
       "      <td>4</td>\n",
       "      <td>1040.07</td>\n",
       "      <td>강원도</td>\n",
       "      <td>강릉시</td>\n",
       "    </tr>\n",
       "    <tr>\n",
       "      <th>1</th>\n",
       "      <td>25589</td>\n",
       "      <td>고성(강원)</td>\n",
       "      <td>9</td>\n",
       "      <td>0</td>\n",
       "      <td>664.19</td>\n",
       "      <td>강원도</td>\n",
       "      <td>고성군</td>\n",
       "    </tr>\n",
       "    <tr>\n",
       "      <th>2</th>\n",
       "      <td>86747</td>\n",
       "      <td>동해</td>\n",
       "      <td>11</td>\n",
       "      <td>5</td>\n",
       "      <td>180.01</td>\n",
       "      <td>강원도</td>\n",
       "      <td>동해시</td>\n",
       "    </tr>\n",
       "  </tbody>\n",
       "</table>\n",
       "</div>"
      ],
      "text/plain": [
       "        인구수 shortName   x  y       면적 광역시도 행정구역\n",
       "seq                                            \n",
       "0    202520        강릉  11  4  1040.07  강원도  강릉시\n",
       "1     25589    고성(강원)   9  0   664.19  강원도  고성군\n",
       "2     86747        동해  11  5   180.01  강원도  동해시"
      ]
     },
     "execution_count": 75,
     "metadata": {},
     "output_type": "execute_result"
    }
   ],
   "source": [
    "data.head(3)"
   ]
  },
  {
   "cell_type": "code",
   "execution_count": 74,
   "id": "7ccedf74-6139-423e-92d7-96de38afcfa5",
   "metadata": {},
   "outputs": [],
   "source": [
    "#seq컬럼을 index로 변경하기\n",
    "data.set_index('seq',inplace=True)"
   ]
  },
  {
   "cell_type": "markdown",
   "id": "d4646065-848b-48e7-a4f7-93960a36520d",
   "metadata": {},
   "source": [
    "#### 상관계수 (Correlation Coefficient)\n",
    "* 인구수와 면적 데이터간에 관련성이 있는지 살펴보기 위해서 상관계수 구하기\n",
    "* 상관계수 값은 -1 ~ 1 사이의 값이며, 0에 가까울 수록 관련성이 낮고, 1에 가까울 수록 관련성이 높다. \n",
    "* 음수는 반비례 (면적이 넓은 반면 인구수는 적은 경우), 양수는 비례 (면적이 넓고, 인구수도 높은 경우)\n",
    "* corr() 함수"
   ]
  },
  {
   "cell_type": "code",
   "execution_count": 76,
   "id": "5b3d8541-2bf7-4fd2-a464-83731155a714",
   "metadata": {},
   "outputs": [
    {
     "data": {
      "text/plain": [
       "-0.3460351605045768"
      ]
     },
     "execution_count": 76,
     "metadata": {},
     "output_type": "execute_result"
    }
   ],
   "source": [
    "#전국의 면적과 인구수의 상관계수 구하기\n",
    "data['면적'].corr(data['인구수'])"
   ]
  },
  {
   "cell_type": "code",
   "execution_count": 77,
   "id": "6ceea386-981f-4474-b62f-f473d27477db",
   "metadata": {},
   "outputs": [
    {
     "data": {
      "text/plain": [
       "0.6644268188909778"
      ]
     },
     "execution_count": 77,
     "metadata": {},
     "output_type": "execute_result"
    }
   ],
   "source": [
    "#서울의 면적과 인구수의 상관계수 구하기\n",
    "seoul_df = data.loc[data['광역시도'] == '서울특별시']\n",
    "seoul_df['면적'].corr(seoul_df['인구수'])"
   ]
  },
  {
   "cell_type": "code",
   "execution_count": 78,
   "id": "8d8469a9-5ee3-42cb-970d-03f5cdf81f9c",
   "metadata": {},
   "outputs": [
    {
     "data": {
      "text/plain": [
       "-0.21572485071590813"
      ]
     },
     "execution_count": 78,
     "metadata": {},
     "output_type": "execute_result"
    }
   ],
   "source": [
    "#경기도의 면적과 인구수의 상관계수 구하기\n",
    "gy_df['면적'].corr(gy_df['인구수'])"
   ]
  },
  {
   "cell_type": "markdown",
   "id": "9ec11e8b-6d71-4a78-b765-4b4f82d68be3",
   "metadata": {},
   "source": [
    "### GroupBy 기능 사용하기\n",
    "* 광역시도별 행정구역의 인구수 합계\n",
    "* ~별에 해당하는 컬럼명이나 컬럼값을 groupby() 함수의 인자로 전달한다. \n",
    "* Series 객체의 groupby() 함수는 컬럼의 값을 인자로 전달하고, DataFrame 객체의 groupby() 함수는 컬럼명을 인자로 전달합니다. "
   ]
  },
  {
   "cell_type": "code",
   "execution_count": 86,
   "id": "18b0cb9a-0b57-4555-bcd7-8327e22588a5",
   "metadata": {},
   "outputs": [
    {
     "data": {
      "text/plain": [
       "광역시도\n",
       "경기도        11744210\n",
       "서울특별시       9394807\n",
       "부산광역시       3323591\n",
       "경상남도        3144487\n",
       "인천광역시       2766575\n",
       "경상북도        2508964\n",
       "대구광역시       2378450\n",
       "충청남도        1946129\n",
       "전라북도        1739048\n",
       "전라남도        1700563\n",
       "충청북도        1484720\n",
       "대전광역시       1467677\n",
       "광주광역시       1438209\n",
       "강원도         1429438\n",
       "울산광역시       1105585\n",
       "제주특별자치도      575873\n",
       "세종특별자치시      191233\n",
       "Name: 인구수, dtype: int64"
      ]
     },
     "execution_count": 86,
     "metadata": {},
     "output_type": "execute_result"
    }
   ],
   "source": [
    "# Series 객체 사용 - 광역시도별 인구수의 합계 \n",
    "# SeriesGroupBy object\n",
    "data['인구수'].groupby(data['광역시도']).sum().sort_values(ascending=False)"
   ]
  },
  {
   "cell_type": "code",
   "execution_count": 89,
   "id": "93ae85fc-dd81-4e68-ae25-167df628c9cc",
   "metadata": {},
   "outputs": [
    {
     "data": {
      "text/html": [
       "<div>\n",
       "<style scoped>\n",
       "    .dataframe tbody tr th:only-of-type {\n",
       "        vertical-align: middle;\n",
       "    }\n",
       "\n",
       "    .dataframe tbody tr th {\n",
       "        vertical-align: top;\n",
       "    }\n",
       "\n",
       "    .dataframe thead th {\n",
       "        text-align: right;\n",
       "    }\n",
       "</style>\n",
       "<table border=\"1\" class=\"dataframe\">\n",
       "  <thead>\n",
       "    <tr style=\"text-align: right;\">\n",
       "      <th></th>\n",
       "      <th>인구수</th>\n",
       "      <th>x</th>\n",
       "      <th>y</th>\n",
       "      <th>면적</th>\n",
       "    </tr>\n",
       "    <tr>\n",
       "      <th>광역시도</th>\n",
       "      <th></th>\n",
       "      <th></th>\n",
       "      <th></th>\n",
       "      <th></th>\n",
       "    </tr>\n",
       "  </thead>\n",
       "  <tbody>\n",
       "    <tr>\n",
       "      <th>강원도</th>\n",
       "      <td>1429438</td>\n",
       "      <td>173</td>\n",
       "      <td>68</td>\n",
       "      <td>16874.810</td>\n",
       "    </tr>\n",
       "    <tr>\n",
       "      <th>경기도</th>\n",
       "      <td>11744210</td>\n",
       "      <td>182</td>\n",
       "      <td>162</td>\n",
       "      <td>10179.743</td>\n",
       "    </tr>\n",
       "    <tr>\n",
       "      <th>경상남도</th>\n",
       "      <td>3144487</td>\n",
       "      <td>123</td>\n",
       "      <td>313</td>\n",
       "      <td>10437.460</td>\n",
       "    </tr>\n",
       "    <tr>\n",
       "      <th>경상북도</th>\n",
       "      <td>2508964</td>\n",
       "      <td>229</td>\n",
       "      <td>240</td>\n",
       "      <td>19021.850</td>\n",
       "    </tr>\n",
       "    <tr>\n",
       "      <th>광주광역시</th>\n",
       "      <td>1438209</td>\n",
       "      <td>12</td>\n",
       "      <td>99</td>\n",
       "      <td>501.280</td>\n",
       "    </tr>\n",
       "    <tr>\n",
       "      <th>대구광역시</th>\n",
       "      <td>2378450</td>\n",
       "      <td>74</td>\n",
       "      <td>111</td>\n",
       "      <td>885.690</td>\n",
       "    </tr>\n",
       "    <tr>\n",
       "      <th>대전광역시</th>\n",
       "      <td>1467677</td>\n",
       "      <td>23</td>\n",
       "      <td>66</td>\n",
       "      <td>539.640</td>\n",
       "    </tr>\n",
       "    <tr>\n",
       "      <th>부산광역시</th>\n",
       "      <td>3323591</td>\n",
       "      <td>162</td>\n",
       "      <td>276</td>\n",
       "      <td>763.240</td>\n",
       "    </tr>\n",
       "    <tr>\n",
       "      <th>서울특별시</th>\n",
       "      <td>9394807</td>\n",
       "      <td>142</td>\n",
       "      <td>111</td>\n",
       "      <td>605.390</td>\n",
       "    </tr>\n",
       "    <tr>\n",
       "      <th>세종특별자치시</th>\n",
       "      <td>191233</td>\n",
       "      <td>4</td>\n",
       "      <td>11</td>\n",
       "      <td>465.230</td>\n",
       "    </tr>\n",
       "    <tr>\n",
       "      <th>울산광역시</th>\n",
       "      <td>1105585</td>\n",
       "      <td>58</td>\n",
       "      <td>71</td>\n",
       "      <td>980.220</td>\n",
       "    </tr>\n",
       "    <tr>\n",
       "      <th>인천광역시</th>\n",
       "      <td>2766575</td>\n",
       "      <td>13</td>\n",
       "      <td>61</td>\n",
       "      <td>1022.910</td>\n",
       "    </tr>\n",
       "    <tr>\n",
       "      <th>전라남도</th>\n",
       "      <td>1700563</td>\n",
       "      <td>44</td>\n",
       "      <td>438</td>\n",
       "      <td>12008.390</td>\n",
       "    </tr>\n",
       "    <tr>\n",
       "      <th>전라북도</th>\n",
       "      <td>1739048</td>\n",
       "      <td>46</td>\n",
       "      <td>219</td>\n",
       "      <td>7907.220</td>\n",
       "    </tr>\n",
       "    <tr>\n",
       "      <th>제주특별자치도</th>\n",
       "      <td>575873</td>\n",
       "      <td>8</td>\n",
       "      <td>49</td>\n",
       "      <td>1848.480</td>\n",
       "    </tr>\n",
       "    <tr>\n",
       "      <th>충청남도</th>\n",
       "      <td>1946129</td>\n",
       "      <td>39</td>\n",
       "      <td>160</td>\n",
       "      <td>8272.270</td>\n",
       "    </tr>\n",
       "    <tr>\n",
       "      <th>충청북도</th>\n",
       "      <td>1484720</td>\n",
       "      <td>69</td>\n",
       "      <td>124</td>\n",
       "      <td>7397.310</td>\n",
       "    </tr>\n",
       "  </tbody>\n",
       "</table>\n",
       "</div>"
      ],
      "text/plain": [
       "              인구수    x    y         면적\n",
       "광역시도                                  \n",
       "강원도       1429438  173   68  16874.810\n",
       "경기도      11744210  182  162  10179.743\n",
       "경상남도      3144487  123  313  10437.460\n",
       "경상북도      2508964  229  240  19021.850\n",
       "광주광역시     1438209   12   99    501.280\n",
       "대구광역시     2378450   74  111    885.690\n",
       "대전광역시     1467677   23   66    539.640\n",
       "부산광역시     3323591  162  276    763.240\n",
       "서울특별시     9394807  142  111    605.390\n",
       "세종특별자치시    191233    4   11    465.230\n",
       "울산광역시     1105585   58   71    980.220\n",
       "인천광역시     2766575   13   61   1022.910\n",
       "전라남도      1700563   44  438  12008.390\n",
       "전라북도      1739048   46  219   7907.220\n",
       "제주특별자치도    575873    8   49   1848.480\n",
       "충청남도      1946129   39  160   8272.270\n",
       "충청북도      1484720   69  124   7397.310"
      ]
     },
     "execution_count": 89,
     "metadata": {},
     "output_type": "execute_result"
    }
   ],
   "source": [
    "# DataFrame 객체 사용 - 광역시도별 인구수의 합계 \n",
    "# DataFrameGroupBy object\n",
    "data.groupby('광역시도').sum(numeric_only=True)"
   ]
  },
  {
   "cell_type": "code",
   "execution_count": 91,
   "id": "edbad601-7de2-4f5e-a831-84b914670ba7",
   "metadata": {},
   "outputs": [
    {
     "data": {
      "text/plain": [
       "광역시도\n",
       "경기도        11744210\n",
       "서울특별시       9394807\n",
       "부산광역시       3323591\n",
       "경상남도        3144487\n",
       "인천광역시       2766575\n",
       "경상북도        2508964\n",
       "대구광역시       2378450\n",
       "충청남도        1946129\n",
       "전라북도        1739048\n",
       "전라남도        1700563\n",
       "충청북도        1484720\n",
       "대전광역시       1467677\n",
       "광주광역시       1438209\n",
       "강원도         1429438\n",
       "울산광역시       1105585\n",
       "제주특별자치도      575873\n",
       "세종특별자치시      191233\n",
       "Name: 인구수, dtype: int64"
      ]
     },
     "execution_count": 91,
     "metadata": {},
     "output_type": "execute_result"
    }
   ],
   "source": [
    "#광역시도별 인구수의 합계\n",
    "data.groupby('광역시도')['인구수'].sum().sort_values(ascending=False)"
   ]
  },
  {
   "cell_type": "code",
   "execution_count": 93,
   "id": "d5fad383-4530-4835-a7f2-15ee392598a3",
   "metadata": {},
   "outputs": [],
   "source": [
    "#광역시도별 행정구역별 인구수의 합계\n",
    "group_df = data.groupby(['광역시도','행정구역'])['인구수'].sum()\n",
    "group_df.to_excel('data/광역시도별행정구역별인구수의합계.xlsx', sheet_name='인구수')"
   ]
  },
  {
   "cell_type": "markdown",
   "id": "9760df98-536b-4aee-a8c3-78d39d3e99e1",
   "metadata": {},
   "source": [
    "#### 엑셀 수치데이터에 콤마찍기\n",
    "* [ExcelWriter](https://pandas.pydata.org/docs/reference/api/pandas.ExcelWriter.html)"
   ]
  },
  {
   "cell_type": "code",
   "execution_count": 95,
   "id": "cf13cc61-bae9-4e6d-9904-e0b7f0422d95",
   "metadata": {},
   "outputs": [
    {
     "name": "stdout",
     "output_type": "stream",
     "text": [
      "Collecting xlsxwriter\n",
      "  Downloading XlsxWriter-3.1.2-py3-none-any.whl (153 kB)\n",
      "     -------------------------------------- 153.0/153.0 kB 9.5 MB/s eta 0:00:00\n",
      "Installing collected packages: xlsxwriter\n",
      "Successfully installed xlsxwriter-3.1.2\n"
     ]
    }
   ],
   "source": [
    "!pip install xlsxwriter"
   ]
  },
  {
   "cell_type": "code",
   "execution_count": 98,
   "id": "46f49835-a4aa-4deb-a9e8-f6a36c0ac579",
   "metadata": {},
   "outputs": [],
   "source": [
    "# Create a Pandas Excel writer using XlsxWriter as the engine.\n",
    "writer = pd.ExcelWriter('data/광역시도별인구수의합계1.xlsx', engine='xlsxwriter')\n",
    "\n",
    "# Convert the dataframe to an XlsxWriter Excel object.\n",
    "group_df.to_excel(writer, sheet_name='인구수합계')\n",
    "\n",
    "# Get the xlsxwriter workbook and worksheet objects.\n",
    "workbook  = writer.book\n",
    "worksheet = writer.sheets['인구수합계']\n",
    "\n",
    "# Set a currency number format for a column.\n",
    "num_format = workbook.add_format({'num_format': '#,###'})\n",
    "worksheet.set_column('C:C', None, num_format)\n",
    "\n",
    "# Close the Pandas Excel writer and output the Excel file.\n",
    "writer.close() #_save()"
   ]
  },
  {
   "cell_type": "markdown",
   "id": "7ebf2c28-c32e-43ba-bcc5-113bb240d5d0",
   "metadata": {},
   "source": [
    "#### Groupby 한 DataFrame에 집계함수를 여러개 설정하기\n",
    "* agg() 함수 "
   ]
  },
  {
   "cell_type": "code",
   "execution_count": 102,
   "id": "73846baf-046a-45a6-b524-8d13d6c61f6f",
   "metadata": {},
   "outputs": [
    {
     "data": {
      "text/html": [
       "<div>\n",
       "<style scoped>\n",
       "    .dataframe tbody tr th:only-of-type {\n",
       "        vertical-align: middle;\n",
       "    }\n",
       "\n",
       "    .dataframe tbody tr th {\n",
       "        vertical-align: top;\n",
       "    }\n",
       "\n",
       "    .dataframe thead th {\n",
       "        text-align: right;\n",
       "    }\n",
       "</style>\n",
       "<table border=\"1\" class=\"dataframe\">\n",
       "  <thead>\n",
       "    <tr style=\"text-align: right;\">\n",
       "      <th></th>\n",
       "      <th>max</th>\n",
       "      <th>mean</th>\n",
       "      <th>std</th>\n",
       "      <th>min</th>\n",
       "    </tr>\n",
       "    <tr>\n",
       "      <th>광역시도</th>\n",
       "      <th></th>\n",
       "      <th></th>\n",
       "      <th></th>\n",
       "      <th></th>\n",
       "    </tr>\n",
       "  </thead>\n",
       "  <tbody>\n",
       "    <tr>\n",
       "      <th>강원도</th>\n",
       "      <td>313851</td>\n",
       "      <td>79413.222222</td>\n",
       "      <td>87316.383238</td>\n",
       "      <td>20809</td>\n",
       "    </tr>\n",
       "    <tr>\n",
       "      <th>경기도</th>\n",
       "      <td>1125461</td>\n",
       "      <td>378845.483871</td>\n",
       "      <td>304548.395142</td>\n",
       "      <td>41076</td>\n",
       "    </tr>\n",
       "    <tr>\n",
       "      <th>경상남도</th>\n",
       "      <td>1010040</td>\n",
       "      <td>174693.722222</td>\n",
       "      <td>245796.465077</td>\n",
       "      <td>25091</td>\n",
       "    </tr>\n",
       "    <tr>\n",
       "      <th>경상북도</th>\n",
       "      <td>488395</td>\n",
       "      <td>109085.391304</td>\n",
       "      <td>124954.740885</td>\n",
       "      <td>8392</td>\n",
       "    </tr>\n",
       "    <tr>\n",
       "      <th>광주광역시</th>\n",
       "      <td>439683</td>\n",
       "      <td>287641.800000</td>\n",
       "      <td>137076.683206</td>\n",
       "      <td>97571</td>\n",
       "    </tr>\n",
       "    <tr>\n",
       "      <th>대구광역시</th>\n",
       "      <td>584517</td>\n",
       "      <td>297306.250000</td>\n",
       "      <td>174375.394380</td>\n",
       "      <td>74950</td>\n",
       "    </tr>\n",
       "    <tr>\n",
       "      <th>대전광역시</th>\n",
       "      <td>475094</td>\n",
       "      <td>293535.400000</td>\n",
       "      <td>111853.571882</td>\n",
       "      <td>190815</td>\n",
       "    </tr>\n",
       "    <tr>\n",
       "      <th>부산광역시</th>\n",
       "      <td>397134</td>\n",
       "      <td>207724.437500</td>\n",
       "      <td>106246.041384</td>\n",
       "      <td>43105</td>\n",
       "    </tr>\n",
       "    <tr>\n",
       "      <th>서울특별시</th>\n",
       "      <td>615487</td>\n",
       "      <td>375792.280000</td>\n",
       "      <td>125231.247975</td>\n",
       "      <td>114967</td>\n",
       "    </tr>\n",
       "    <tr>\n",
       "      <th>세종특별자치시</th>\n",
       "      <td>191233</td>\n",
       "      <td>191233.000000</td>\n",
       "      <td>0.000000</td>\n",
       "      <td>191233</td>\n",
       "    </tr>\n",
       "    <tr>\n",
       "      <th>울산광역시</th>\n",
       "      <td>327270</td>\n",
       "      <td>221117.000000</td>\n",
       "      <td>64163.286582</td>\n",
       "      <td>164738</td>\n",
       "    </tr>\n",
       "    <tr>\n",
       "      <th>인천광역시</th>\n",
       "      <td>527153</td>\n",
       "      <td>276657.500000</td>\n",
       "      <td>199353.596491</td>\n",
       "      <td>17735</td>\n",
       "    </tr>\n",
       "    <tr>\n",
       "      <th>전라남도</th>\n",
       "      <td>263166</td>\n",
       "      <td>77298.318182</td>\n",
       "      <td>74413.253230</td>\n",
       "      <td>23189</td>\n",
       "    </tr>\n",
       "    <tr>\n",
       "      <th>전라북도</th>\n",
       "      <td>630708</td>\n",
       "      <td>124217.714286</td>\n",
       "      <td>168327.134821</td>\n",
       "      <td>20492</td>\n",
       "    </tr>\n",
       "    <tr>\n",
       "      <th>제주특별자치도</th>\n",
       "      <td>430504</td>\n",
       "      <td>287936.500000</td>\n",
       "      <td>201620.892054</td>\n",
       "      <td>145369</td>\n",
       "    </tr>\n",
       "    <tr>\n",
       "      <th>충청남도</th>\n",
       "      <td>584912</td>\n",
       "      <td>129741.933333</td>\n",
       "      <td>141125.108080</td>\n",
       "      <td>29671</td>\n",
       "    </tr>\n",
       "    <tr>\n",
       "      <th>충청북도</th>\n",
       "      <td>790216</td>\n",
       "      <td>134974.545455</td>\n",
       "      <td>223460.356657</td>\n",
       "      <td>27130</td>\n",
       "    </tr>\n",
       "  </tbody>\n",
       "</table>\n",
       "</div>"
      ],
      "text/plain": [
       "             max           mean            std     min\n",
       "광역시도                                                  \n",
       "강원도       313851   79413.222222   87316.383238   20809\n",
       "경기도      1125461  378845.483871  304548.395142   41076\n",
       "경상남도     1010040  174693.722222  245796.465077   25091\n",
       "경상북도      488395  109085.391304  124954.740885    8392\n",
       "광주광역시     439683  287641.800000  137076.683206   97571\n",
       "대구광역시     584517  297306.250000  174375.394380   74950\n",
       "대전광역시     475094  293535.400000  111853.571882  190815\n",
       "부산광역시     397134  207724.437500  106246.041384   43105\n",
       "서울특별시     615487  375792.280000  125231.247975  114967\n",
       "세종특별자치시   191233  191233.000000       0.000000  191233\n",
       "울산광역시     327270  221117.000000   64163.286582  164738\n",
       "인천광역시     527153  276657.500000  199353.596491   17735\n",
       "전라남도      263166   77298.318182   74413.253230   23189\n",
       "전라북도      630708  124217.714286  168327.134821   20492\n",
       "제주특별자치도   430504  287936.500000  201620.892054  145369\n",
       "충청남도      584912  129741.933333  141125.108080   29671\n",
       "충청북도      790216  134974.545455  223460.356657   27130"
      ]
     },
     "execution_count": 102,
     "metadata": {},
     "output_type": "execute_result"
    }
   ],
   "source": [
    "data.groupby('광역시도')['인구수'].agg(['max','mean','std','min']).fillna(0)"
   ]
  },
  {
   "cell_type": "code",
   "execution_count": 103,
   "id": "c4161e0c-2f9f-4106-9b78-29a2bec16408",
   "metadata": {},
   "outputs": [
    {
     "data": {
      "text/html": [
       "<div>\n",
       "<style scoped>\n",
       "    .dataframe tbody tr th:only-of-type {\n",
       "        vertical-align: middle;\n",
       "    }\n",
       "\n",
       "    .dataframe tbody tr th {\n",
       "        vertical-align: top;\n",
       "    }\n",
       "\n",
       "    .dataframe thead th {\n",
       "        text-align: right;\n",
       "    }\n",
       "</style>\n",
       "<table border=\"1\" class=\"dataframe\">\n",
       "  <thead>\n",
       "    <tr style=\"text-align: right;\">\n",
       "      <th></th>\n",
       "      <th>max</th>\n",
       "      <th>mean</th>\n",
       "      <th>std</th>\n",
       "    </tr>\n",
       "    <tr>\n",
       "      <th>광역시도</th>\n",
       "      <th></th>\n",
       "      <th></th>\n",
       "      <th></th>\n",
       "    </tr>\n",
       "  </thead>\n",
       "  <tbody>\n",
       "    <tr>\n",
       "      <th>경기도</th>\n",
       "      <td>1125461</td>\n",
       "      <td>378845.483871</td>\n",
       "      <td>304548.395142</td>\n",
       "    </tr>\n",
       "    <tr>\n",
       "      <th>경상남도</th>\n",
       "      <td>1010040</td>\n",
       "      <td>174693.722222</td>\n",
       "      <td>245796.465077</td>\n",
       "    </tr>\n",
       "    <tr>\n",
       "      <th>충청북도</th>\n",
       "      <td>790216</td>\n",
       "      <td>134974.545455</td>\n",
       "      <td>223460.356657</td>\n",
       "    </tr>\n",
       "    <tr>\n",
       "      <th>제주특별자치도</th>\n",
       "      <td>430504</td>\n",
       "      <td>287936.500000</td>\n",
       "      <td>201620.892054</td>\n",
       "    </tr>\n",
       "    <tr>\n",
       "      <th>인천광역시</th>\n",
       "      <td>527153</td>\n",
       "      <td>276657.500000</td>\n",
       "      <td>199353.596491</td>\n",
       "    </tr>\n",
       "    <tr>\n",
       "      <th>대구광역시</th>\n",
       "      <td>584517</td>\n",
       "      <td>297306.250000</td>\n",
       "      <td>174375.394380</td>\n",
       "    </tr>\n",
       "    <tr>\n",
       "      <th>전라북도</th>\n",
       "      <td>630708</td>\n",
       "      <td>124217.714286</td>\n",
       "      <td>168327.134821</td>\n",
       "    </tr>\n",
       "    <tr>\n",
       "      <th>충청남도</th>\n",
       "      <td>584912</td>\n",
       "      <td>129741.933333</td>\n",
       "      <td>141125.108080</td>\n",
       "    </tr>\n",
       "    <tr>\n",
       "      <th>광주광역시</th>\n",
       "      <td>439683</td>\n",
       "      <td>287641.800000</td>\n",
       "      <td>137076.683206</td>\n",
       "    </tr>\n",
       "    <tr>\n",
       "      <th>서울특별시</th>\n",
       "      <td>615487</td>\n",
       "      <td>375792.280000</td>\n",
       "      <td>125231.247975</td>\n",
       "    </tr>\n",
       "    <tr>\n",
       "      <th>경상북도</th>\n",
       "      <td>488395</td>\n",
       "      <td>109085.391304</td>\n",
       "      <td>124954.740885</td>\n",
       "    </tr>\n",
       "    <tr>\n",
       "      <th>대전광역시</th>\n",
       "      <td>475094</td>\n",
       "      <td>293535.400000</td>\n",
       "      <td>111853.571882</td>\n",
       "    </tr>\n",
       "    <tr>\n",
       "      <th>부산광역시</th>\n",
       "      <td>397134</td>\n",
       "      <td>207724.437500</td>\n",
       "      <td>106246.041384</td>\n",
       "    </tr>\n",
       "    <tr>\n",
       "      <th>강원도</th>\n",
       "      <td>313851</td>\n",
       "      <td>79413.222222</td>\n",
       "      <td>87316.383238</td>\n",
       "    </tr>\n",
       "    <tr>\n",
       "      <th>전라남도</th>\n",
       "      <td>263166</td>\n",
       "      <td>77298.318182</td>\n",
       "      <td>74413.253230</td>\n",
       "    </tr>\n",
       "    <tr>\n",
       "      <th>울산광역시</th>\n",
       "      <td>327270</td>\n",
       "      <td>221117.000000</td>\n",
       "      <td>64163.286582</td>\n",
       "    </tr>\n",
       "    <tr>\n",
       "      <th>세종특별자치시</th>\n",
       "      <td>191233</td>\n",
       "      <td>191233.000000</td>\n",
       "      <td>0.000000</td>\n",
       "    </tr>\n",
       "  </tbody>\n",
       "</table>\n",
       "</div>"
      ],
      "text/plain": [
       "             max           mean            std\n",
       "광역시도                                          \n",
       "경기도      1125461  378845.483871  304548.395142\n",
       "경상남도     1010040  174693.722222  245796.465077\n",
       "충청북도      790216  134974.545455  223460.356657\n",
       "제주특별자치도   430504  287936.500000  201620.892054\n",
       "인천광역시     527153  276657.500000  199353.596491\n",
       "대구광역시     584517  297306.250000  174375.394380\n",
       "전라북도      630708  124217.714286  168327.134821\n",
       "충청남도      584912  129741.933333  141125.108080\n",
       "광주광역시     439683  287641.800000  137076.683206\n",
       "서울특별시     615487  375792.280000  125231.247975\n",
       "경상북도      488395  109085.391304  124954.740885\n",
       "대전광역시     475094  293535.400000  111853.571882\n",
       "부산광역시     397134  207724.437500  106246.041384\n",
       "강원도       313851   79413.222222   87316.383238\n",
       "전라남도      263166   77298.318182   74413.253230\n",
       "울산광역시     327270  221117.000000   64163.286582\n",
       "세종특별자치시   191233  191233.000000       0.000000"
      ]
     },
     "execution_count": 103,
     "metadata": {},
     "output_type": "execute_result"
    }
   ],
   "source": [
    "# agg() 함수 사용 - 그룹핑한 데이터를 여러개의 집계함수를 사용해서 새로운 DataFrame 객체 생성하기\n",
    "group_agg_df = data.groupby('광역시도')['인구수'].agg(['max','mean','std']).fillna(0).sort_values(by='std',ascending=False)\n",
    "group_agg_df"
   ]
  },
  {
   "cell_type": "code",
   "execution_count": 104,
   "id": "023901db-55fe-4cc6-ba89-ed5571206045",
   "metadata": {},
   "outputs": [
    {
     "data": {
      "text/html": [
       "<style type=\"text/css\">\n",
       "</style>\n",
       "<table id=\"T_44cdb\">\n",
       "  <thead>\n",
       "    <tr>\n",
       "      <th class=\"blank level0\" >&nbsp;</th>\n",
       "      <th id=\"T_44cdb_level0_col0\" class=\"col_heading level0 col0\" >max</th>\n",
       "      <th id=\"T_44cdb_level0_col1\" class=\"col_heading level0 col1\" >mean</th>\n",
       "      <th id=\"T_44cdb_level0_col2\" class=\"col_heading level0 col2\" >std</th>\n",
       "    </tr>\n",
       "    <tr>\n",
       "      <th class=\"index_name level0\" >광역시도</th>\n",
       "      <th class=\"blank col0\" >&nbsp;</th>\n",
       "      <th class=\"blank col1\" >&nbsp;</th>\n",
       "      <th class=\"blank col2\" >&nbsp;</th>\n",
       "    </tr>\n",
       "  </thead>\n",
       "  <tbody>\n",
       "    <tr>\n",
       "      <th id=\"T_44cdb_level0_row0\" class=\"row_heading level0 row0\" >경기도</th>\n",
       "      <td id=\"T_44cdb_row0_col0\" class=\"data row0 col0\" >1125461.00</td>\n",
       "      <td id=\"T_44cdb_row0_col1\" class=\"data row0 col1\" >378845.48</td>\n",
       "      <td id=\"T_44cdb_row0_col2\" class=\"data row0 col2\" >304548.40</td>\n",
       "    </tr>\n",
       "    <tr>\n",
       "      <th id=\"T_44cdb_level0_row1\" class=\"row_heading level0 row1\" >경상남도</th>\n",
       "      <td id=\"T_44cdb_row1_col0\" class=\"data row1 col0\" >1010040.00</td>\n",
       "      <td id=\"T_44cdb_row1_col1\" class=\"data row1 col1\" >174693.72</td>\n",
       "      <td id=\"T_44cdb_row1_col2\" class=\"data row1 col2\" >245796.47</td>\n",
       "    </tr>\n",
       "    <tr>\n",
       "      <th id=\"T_44cdb_level0_row2\" class=\"row_heading level0 row2\" >충청북도</th>\n",
       "      <td id=\"T_44cdb_row2_col0\" class=\"data row2 col0\" >790216.00</td>\n",
       "      <td id=\"T_44cdb_row2_col1\" class=\"data row2 col1\" >134974.55</td>\n",
       "      <td id=\"T_44cdb_row2_col2\" class=\"data row2 col2\" >223460.36</td>\n",
       "    </tr>\n",
       "    <tr>\n",
       "      <th id=\"T_44cdb_level0_row3\" class=\"row_heading level0 row3\" >제주특별자치도</th>\n",
       "      <td id=\"T_44cdb_row3_col0\" class=\"data row3 col0\" >430504.00</td>\n",
       "      <td id=\"T_44cdb_row3_col1\" class=\"data row3 col1\" >287936.50</td>\n",
       "      <td id=\"T_44cdb_row3_col2\" class=\"data row3 col2\" >201620.89</td>\n",
       "    </tr>\n",
       "    <tr>\n",
       "      <th id=\"T_44cdb_level0_row4\" class=\"row_heading level0 row4\" >인천광역시</th>\n",
       "      <td id=\"T_44cdb_row4_col0\" class=\"data row4 col0\" >527153.00</td>\n",
       "      <td id=\"T_44cdb_row4_col1\" class=\"data row4 col1\" >276657.50</td>\n",
       "      <td id=\"T_44cdb_row4_col2\" class=\"data row4 col2\" >199353.60</td>\n",
       "    </tr>\n",
       "    <tr>\n",
       "      <th id=\"T_44cdb_level0_row5\" class=\"row_heading level0 row5\" >대구광역시</th>\n",
       "      <td id=\"T_44cdb_row5_col0\" class=\"data row5 col0\" >584517.00</td>\n",
       "      <td id=\"T_44cdb_row5_col1\" class=\"data row5 col1\" >297306.25</td>\n",
       "      <td id=\"T_44cdb_row5_col2\" class=\"data row5 col2\" >174375.39</td>\n",
       "    </tr>\n",
       "    <tr>\n",
       "      <th id=\"T_44cdb_level0_row6\" class=\"row_heading level0 row6\" >전라북도</th>\n",
       "      <td id=\"T_44cdb_row6_col0\" class=\"data row6 col0\" >630708.00</td>\n",
       "      <td id=\"T_44cdb_row6_col1\" class=\"data row6 col1\" >124217.71</td>\n",
       "      <td id=\"T_44cdb_row6_col2\" class=\"data row6 col2\" >168327.13</td>\n",
       "    </tr>\n",
       "    <tr>\n",
       "      <th id=\"T_44cdb_level0_row7\" class=\"row_heading level0 row7\" >충청남도</th>\n",
       "      <td id=\"T_44cdb_row7_col0\" class=\"data row7 col0\" >584912.00</td>\n",
       "      <td id=\"T_44cdb_row7_col1\" class=\"data row7 col1\" >129741.93</td>\n",
       "      <td id=\"T_44cdb_row7_col2\" class=\"data row7 col2\" >141125.11</td>\n",
       "    </tr>\n",
       "    <tr>\n",
       "      <th id=\"T_44cdb_level0_row8\" class=\"row_heading level0 row8\" >광주광역시</th>\n",
       "      <td id=\"T_44cdb_row8_col0\" class=\"data row8 col0\" >439683.00</td>\n",
       "      <td id=\"T_44cdb_row8_col1\" class=\"data row8 col1\" >287641.80</td>\n",
       "      <td id=\"T_44cdb_row8_col2\" class=\"data row8 col2\" >137076.68</td>\n",
       "    </tr>\n",
       "    <tr>\n",
       "      <th id=\"T_44cdb_level0_row9\" class=\"row_heading level0 row9\" >서울특별시</th>\n",
       "      <td id=\"T_44cdb_row9_col0\" class=\"data row9 col0\" >615487.00</td>\n",
       "      <td id=\"T_44cdb_row9_col1\" class=\"data row9 col1\" >375792.28</td>\n",
       "      <td id=\"T_44cdb_row9_col2\" class=\"data row9 col2\" >125231.25</td>\n",
       "    </tr>\n",
       "    <tr>\n",
       "      <th id=\"T_44cdb_level0_row10\" class=\"row_heading level0 row10\" >경상북도</th>\n",
       "      <td id=\"T_44cdb_row10_col0\" class=\"data row10 col0\" >488395.00</td>\n",
       "      <td id=\"T_44cdb_row10_col1\" class=\"data row10 col1\" >109085.39</td>\n",
       "      <td id=\"T_44cdb_row10_col2\" class=\"data row10 col2\" >124954.74</td>\n",
       "    </tr>\n",
       "    <tr>\n",
       "      <th id=\"T_44cdb_level0_row11\" class=\"row_heading level0 row11\" >대전광역시</th>\n",
       "      <td id=\"T_44cdb_row11_col0\" class=\"data row11 col0\" >475094.00</td>\n",
       "      <td id=\"T_44cdb_row11_col1\" class=\"data row11 col1\" >293535.40</td>\n",
       "      <td id=\"T_44cdb_row11_col2\" class=\"data row11 col2\" >111853.57</td>\n",
       "    </tr>\n",
       "    <tr>\n",
       "      <th id=\"T_44cdb_level0_row12\" class=\"row_heading level0 row12\" >부산광역시</th>\n",
       "      <td id=\"T_44cdb_row12_col0\" class=\"data row12 col0\" >397134.00</td>\n",
       "      <td id=\"T_44cdb_row12_col1\" class=\"data row12 col1\" >207724.44</td>\n",
       "      <td id=\"T_44cdb_row12_col2\" class=\"data row12 col2\" >106246.04</td>\n",
       "    </tr>\n",
       "    <tr>\n",
       "      <th id=\"T_44cdb_level0_row13\" class=\"row_heading level0 row13\" >강원도</th>\n",
       "      <td id=\"T_44cdb_row13_col0\" class=\"data row13 col0\" >313851.00</td>\n",
       "      <td id=\"T_44cdb_row13_col1\" class=\"data row13 col1\" >79413.22</td>\n",
       "      <td id=\"T_44cdb_row13_col2\" class=\"data row13 col2\" >87316.38</td>\n",
       "    </tr>\n",
       "    <tr>\n",
       "      <th id=\"T_44cdb_level0_row14\" class=\"row_heading level0 row14\" >전라남도</th>\n",
       "      <td id=\"T_44cdb_row14_col0\" class=\"data row14 col0\" >263166.00</td>\n",
       "      <td id=\"T_44cdb_row14_col1\" class=\"data row14 col1\" >77298.32</td>\n",
       "      <td id=\"T_44cdb_row14_col2\" class=\"data row14 col2\" >74413.25</td>\n",
       "    </tr>\n",
       "    <tr>\n",
       "      <th id=\"T_44cdb_level0_row15\" class=\"row_heading level0 row15\" >울산광역시</th>\n",
       "      <td id=\"T_44cdb_row15_col0\" class=\"data row15 col0\" >327270.00</td>\n",
       "      <td id=\"T_44cdb_row15_col1\" class=\"data row15 col1\" >221117.00</td>\n",
       "      <td id=\"T_44cdb_row15_col2\" class=\"data row15 col2\" >64163.29</td>\n",
       "    </tr>\n",
       "    <tr>\n",
       "      <th id=\"T_44cdb_level0_row16\" class=\"row_heading level0 row16\" >세종특별자치시</th>\n",
       "      <td id=\"T_44cdb_row16_col0\" class=\"data row16 col0\" >191233.00</td>\n",
       "      <td id=\"T_44cdb_row16_col1\" class=\"data row16 col1\" >191233.00</td>\n",
       "      <td id=\"T_44cdb_row16_col2\" class=\"data row16 col2\" >0.00</td>\n",
       "    </tr>\n",
       "  </tbody>\n",
       "</table>\n"
      ],
      "text/plain": [
       "<pandas.io.formats.style.Styler at 0x1c3195c4b80>"
      ]
     },
     "execution_count": 104,
     "metadata": {},
     "output_type": "execute_result"
    }
   ],
   "source": [
    "# DataFrame 객체의 style 설정\n",
    "group_agg_df.style.format('{0:.2f}')"
   ]
  },
  {
   "cell_type": "code",
   "execution_count": 110,
   "id": "e9db4d94-90b2-430f-b84d-caef6e960623",
   "metadata": {},
   "outputs": [
    {
     "data": {
      "text/html": [
       "<div>\n",
       "<style scoped>\n",
       "    .dataframe tbody tr th:only-of-type {\n",
       "        vertical-align: middle;\n",
       "    }\n",
       "\n",
       "    .dataframe tbody tr th {\n",
       "        vertical-align: top;\n",
       "    }\n",
       "\n",
       "    .dataframe thead th {\n",
       "        text-align: right;\n",
       "    }\n",
       "</style>\n",
       "<table border=\"1\" class=\"dataframe\">\n",
       "  <thead>\n",
       "    <tr style=\"text-align: right;\">\n",
       "      <th></th>\n",
       "      <th>max</th>\n",
       "      <th>mean</th>\n",
       "      <th>std</th>\n",
       "    </tr>\n",
       "    <tr>\n",
       "      <th>광역시도</th>\n",
       "      <th></th>\n",
       "      <th></th>\n",
       "      <th></th>\n",
       "    </tr>\n",
       "  </thead>\n",
       "  <tbody>\n",
       "    <tr>\n",
       "      <th>경기도</th>\n",
       "      <td>1125461</td>\n",
       "      <td>378845.48</td>\n",
       "      <td>304548.40</td>\n",
       "    </tr>\n",
       "    <tr>\n",
       "      <th>경상남도</th>\n",
       "      <td>1010040</td>\n",
       "      <td>174693.72</td>\n",
       "      <td>245796.47</td>\n",
       "    </tr>\n",
       "    <tr>\n",
       "      <th>충청북도</th>\n",
       "      <td>790216</td>\n",
       "      <td>134974.55</td>\n",
       "      <td>223460.36</td>\n",
       "    </tr>\n",
       "    <tr>\n",
       "      <th>제주특별자치도</th>\n",
       "      <td>430504</td>\n",
       "      <td>287936.50</td>\n",
       "      <td>201620.89</td>\n",
       "    </tr>\n",
       "    <tr>\n",
       "      <th>인천광역시</th>\n",
       "      <td>527153</td>\n",
       "      <td>276657.50</td>\n",
       "      <td>199353.60</td>\n",
       "    </tr>\n",
       "    <tr>\n",
       "      <th>대구광역시</th>\n",
       "      <td>584517</td>\n",
       "      <td>297306.25</td>\n",
       "      <td>174375.39</td>\n",
       "    </tr>\n",
       "    <tr>\n",
       "      <th>전라북도</th>\n",
       "      <td>630708</td>\n",
       "      <td>124217.71</td>\n",
       "      <td>168327.13</td>\n",
       "    </tr>\n",
       "    <tr>\n",
       "      <th>충청남도</th>\n",
       "      <td>584912</td>\n",
       "      <td>129741.93</td>\n",
       "      <td>141125.11</td>\n",
       "    </tr>\n",
       "    <tr>\n",
       "      <th>광주광역시</th>\n",
       "      <td>439683</td>\n",
       "      <td>287641.80</td>\n",
       "      <td>137076.68</td>\n",
       "    </tr>\n",
       "    <tr>\n",
       "      <th>서울특별시</th>\n",
       "      <td>615487</td>\n",
       "      <td>375792.28</td>\n",
       "      <td>125231.25</td>\n",
       "    </tr>\n",
       "    <tr>\n",
       "      <th>경상북도</th>\n",
       "      <td>488395</td>\n",
       "      <td>109085.39</td>\n",
       "      <td>124954.74</td>\n",
       "    </tr>\n",
       "    <tr>\n",
       "      <th>대전광역시</th>\n",
       "      <td>475094</td>\n",
       "      <td>293535.40</td>\n",
       "      <td>111853.57</td>\n",
       "    </tr>\n",
       "    <tr>\n",
       "      <th>부산광역시</th>\n",
       "      <td>397134</td>\n",
       "      <td>207724.44</td>\n",
       "      <td>106246.04</td>\n",
       "    </tr>\n",
       "    <tr>\n",
       "      <th>강원도</th>\n",
       "      <td>313851</td>\n",
       "      <td>79413.22</td>\n",
       "      <td>87316.38</td>\n",
       "    </tr>\n",
       "    <tr>\n",
       "      <th>전라남도</th>\n",
       "      <td>263166</td>\n",
       "      <td>77298.32</td>\n",
       "      <td>74413.25</td>\n",
       "    </tr>\n",
       "    <tr>\n",
       "      <th>울산광역시</th>\n",
       "      <td>327270</td>\n",
       "      <td>221117.00</td>\n",
       "      <td>64163.29</td>\n",
       "    </tr>\n",
       "    <tr>\n",
       "      <th>세종특별자치시</th>\n",
       "      <td>191233</td>\n",
       "      <td>191233.00</td>\n",
       "      <td>0.00</td>\n",
       "    </tr>\n",
       "  </tbody>\n",
       "</table>\n",
       "</div>"
      ],
      "text/plain": [
       "             max       mean        std\n",
       "광역시도                                  \n",
       "경기도      1125461  378845.48  304548.40\n",
       "경상남도     1010040  174693.72  245796.47\n",
       "충청북도      790216  134974.55  223460.36\n",
       "제주특별자치도   430504  287936.50  201620.89\n",
       "인천광역시     527153  276657.50  199353.60\n",
       "대구광역시     584517  297306.25  174375.39\n",
       "전라북도      630708  124217.71  168327.13\n",
       "충청남도      584912  129741.93  141125.11\n",
       "광주광역시     439683  287641.80  137076.68\n",
       "서울특별시     615487  375792.28  125231.25\n",
       "경상북도      488395  109085.39  124954.74\n",
       "대전광역시     475094  293535.40  111853.57\n",
       "부산광역시     397134  207724.44  106246.04\n",
       "강원도       313851   79413.22   87316.38\n",
       "전라남도      263166   77298.32   74413.25\n",
       "울산광역시     327270  221117.00   64163.29\n",
       "세종특별자치시   191233  191233.00       0.00"
      ]
     },
     "execution_count": 110,
     "metadata": {},
     "output_type": "execute_result"
    }
   ],
   "source": [
    "group_agg_df"
   ]
  },
  {
   "cell_type": "code",
   "execution_count": 108,
   "id": "c1bdcfe9-1512-4acd-97d1-becfe3e0167d",
   "metadata": {},
   "outputs": [],
   "source": [
    "# 컬럼의 값을 변경 map() 함수를 사용하여 포맷하기\n",
    "group_agg_df['mean'] = group_agg_df['mean'].map('{:.2f}'.format)\n",
    "group_agg_df['std'] = group_agg_df['std'].map('{:.2f}'.format)"
   ]
  },
  {
   "cell_type": "markdown",
   "id": "284b4285-cad0-47ae-b322-aeb0eb8998a6",
   "metadata": {},
   "source": [
    "#### 시각화\n",
    "* %matplotlib inline 설정 (jupyter 에서는 show() 함수를 호출하지 않아도 plot이 출력된다)\n",
    "* 한글폰트 설정이 필요함\n",
    "* Plot에 대한 설정은 matplotlib의 함수를 사용하고, Plot을 그려주는 기능은 seaborn()의 함수를 사용합니다. "
   ]
  },
  {
   "cell_type": "code",
   "execution_count": 112,
   "id": "b93bfba7-cf85-440c-81b5-06f7bef384ac",
   "metadata": {},
   "outputs": [],
   "source": [
    "%matplotlib inline"
   ]
  },
  {
   "cell_type": "code",
   "execution_count": 113,
   "id": "f94782ee-785e-4306-a1ff-b46ee982f190",
   "metadata": {},
   "outputs": [
    {
     "name": "stdout",
     "output_type": "stream",
     "text": [
      "matplotlib  3.7.0\n",
      "seaborn  0.12.2\n"
     ]
    }
   ],
   "source": [
    "import matplotlib\n",
    "import matplotlib.pyplot as plt\n",
    "import matplotlib.font_manager as fm\n",
    "import seaborn as sns\n",
    "\n",
    "print('matplotlib ', matplotlib.__version__)\n",
    "print('seaborn ', sns.__version__)"
   ]
  },
  {
   "cell_type": "code",
   "execution_count": 116,
   "id": "acb8c2ab-6d27-45a6-b95e-823b8b7759ab",
   "metadata": {},
   "outputs": [
    {
     "data": {
      "text/plain": [
       "[('Malgun Gothic', 'C:\\\\Windows\\\\Fonts\\\\malgun.ttf'),\n",
       " ('Malgun Gothic', 'C:\\\\Windows\\\\Fonts\\\\malgunbd.ttf'),\n",
       " ('Malgun Gothic', 'C:\\\\windows\\\\Fonts\\\\malgun.ttf'),\n",
       " ('Malgun Gothic', 'C:\\\\Windows\\\\Fonts\\\\malgunsl.ttf'),\n",
       " ('Malgun Gothic', 'C:\\\\windows\\\\Fonts\\\\malgunsl.ttf'),\n",
       " ('Malgun Gothic', 'C:\\\\windows\\\\Fonts\\\\malgunbd.ttf')]"
      ]
     },
     "execution_count": 116,
     "metadata": {},
     "output_type": "execute_result"
    }
   ],
   "source": [
    "# 폰트이름과 폰트파일 정보 출력 list comprehension \n",
    "[ (font.name, font.fname) for font in fm.fontManager.ttflist if 'Mal' in font.name]"
   ]
  },
  {
   "cell_type": "code",
   "execution_count": 117,
   "id": "b9c8ae8e-c14d-4f6a-943c-011a8ef101ed",
   "metadata": {},
   "outputs": [
    {
     "name": "stdout",
     "output_type": "stream",
     "text": [
      "Malgun Gothic\n"
     ]
    }
   ],
   "source": [
    "# font name을 알고 있다면 생략가능\n",
    "#한글폰트 path 설정\n",
    "font_path = 'C:\\\\windows\\\\Fonts\\\\malgun.ttf'\n",
    "#font의 파일정보로 font name 을 알아내기\n",
    "font_prop = fm.FontProperties(fname=font_path).get_name()\n",
    "print(font_prop)\n",
    "\n",
    "# matplotlib의 rc(run command) 함수를 사용해서 font name 설정\n",
    "matplotlib.rc('font', family=font_prop)"
   ]
  },
  {
   "cell_type": "markdown",
   "id": "4c039404-0090-4fa2-8f3c-1187960e34b3",
   "metadata": {},
   "source": [
    "#### Figure, Axes, Plot \n",
    "* Axes는 Plot이 실제 그려지는 공간\n",
    "* Figure는 Axes 보다 더 상위의 공간\n",
    "  : Figure을 여러개의 Axes로 분할해서 Plot를 그릴 수 있다\n",
    "* seaborn의 barplot() 함수(막대그래프) 사용 "
   ]
  },
  {
   "cell_type": "code",
   "execution_count": 119,
   "id": "657f06cc-b605-4469-a27c-6832a7aa840e",
   "metadata": {},
   "outputs": [
    {
     "data": {
      "text/html": [
       "<div>\n",
       "<style scoped>\n",
       "    .dataframe tbody tr th:only-of-type {\n",
       "        vertical-align: middle;\n",
       "    }\n",
       "\n",
       "    .dataframe tbody tr th {\n",
       "        vertical-align: top;\n",
       "    }\n",
       "\n",
       "    .dataframe thead th {\n",
       "        text-align: right;\n",
       "    }\n",
       "</style>\n",
       "<table border=\"1\" class=\"dataframe\">\n",
       "  <thead>\n",
       "    <tr style=\"text-align: right;\">\n",
       "      <th></th>\n",
       "      <th>인구수</th>\n",
       "      <th>shortName</th>\n",
       "      <th>x</th>\n",
       "      <th>y</th>\n",
       "      <th>면적</th>\n",
       "      <th>광역시도</th>\n",
       "      <th>행정구역</th>\n",
       "    </tr>\n",
       "    <tr>\n",
       "      <th>seq</th>\n",
       "      <th></th>\n",
       "      <th></th>\n",
       "      <th></th>\n",
       "      <th></th>\n",
       "      <th></th>\n",
       "      <th></th>\n",
       "      <th></th>\n",
       "    </tr>\n",
       "  </thead>\n",
       "  <tbody>\n",
       "    <tr>\n",
       "      <th>124</th>\n",
       "      <td>526157</td>\n",
       "      <td>서울강남</td>\n",
       "      <td>6</td>\n",
       "      <td>7</td>\n",
       "      <td>39.5</td>\n",
       "      <td>서울특별시</td>\n",
       "      <td>강남구</td>\n",
       "    </tr>\n",
       "    <tr>\n",
       "      <th>125</th>\n",
       "      <td>432028</td>\n",
       "      <td>서울강동</td>\n",
       "      <td>8</td>\n",
       "      <td>5</td>\n",
       "      <td>24.6</td>\n",
       "      <td>서울특별시</td>\n",
       "      <td>강동구</td>\n",
       "    </tr>\n",
       "    <tr>\n",
       "      <th>126</th>\n",
       "      <td>310292</td>\n",
       "      <td>서울강북</td>\n",
       "      <td>5</td>\n",
       "      <td>2</td>\n",
       "      <td>23.6</td>\n",
       "      <td>서울특별시</td>\n",
       "      <td>강북구</td>\n",
       "    </tr>\n",
       "  </tbody>\n",
       "</table>\n",
       "</div>"
      ],
      "text/plain": [
       "        인구수 shortName  x  y    면적   광역시도 행정구역\n",
       "seq                                          \n",
       "124  526157      서울강남  6  7  39.5  서울특별시  강남구\n",
       "125  432028      서울강동  8  5  24.6  서울특별시  강동구\n",
       "126  310292      서울강북  5  2  23.6  서울특별시  강북구"
      ]
     },
     "execution_count": 119,
     "metadata": {},
     "output_type": "execute_result"
    }
   ],
   "source": [
    "seoul_df.head(3)"
   ]
  },
  {
   "cell_type": "code",
   "execution_count": 128,
   "id": "91dee288-b84e-41ed-98d8-42993246ce7e",
   "metadata": {},
   "outputs": [
    {
     "name": "stdout",
     "output_type": "stream",
     "text": [
      "Figure(1800x1200)\n",
      "Axes(0.125,0.53;0.775x0.35)\n",
      "Axes(0.125,0.11;0.775x0.35)\n"
     ]
    },
    {
     "data": {
      "text/plain": [
       "<Axes: xlabel='행정구역', ylabel='면적'>"
      ]
     },
     "execution_count": 128,
     "metadata": {},
     "output_type": "execute_result"
    },
    {
     "data": {
      "image/png": "[encoded data removed]",
      "text/plain": [
       "<Figure size 1800x1200 with 2 Axes>"
      ]
     },
     "metadata": {},
     "output_type": "display_data"
    }
   ],
   "source": [
    "figure,(axes1, axes2) = plt.subplots(nrows=2, ncols=1)\n",
    "figure.set_size_inches(18,12)\n",
    "print(figure)\n",
    "print(axes1)\n",
    "print(axes2)\n",
    "sns.barplot(x='행정구역',y='인구수',data=seoul_df.sort_values(by='인구수',ascending=False), ax=axes1)\n",
    "sns.barplot(x='행정구역',y='면적',data=seoul_df.sort_values(by='면적',ascending=False), ax=axes2)"
   ]
  },
  {
   "cell_type": "code",
   "execution_count": 129,
   "id": "53160f76-9ec1-4b29-90f8-b363166a7269",
   "metadata": {},
   "outputs": [],
   "source": [
    "# 광역시도 이름을 인자로 받아서 인구수와 면적을 그려주는 함수\n",
    "def show_pop_area(sido_name):\n",
    "    sido_df = data.loc[data['광역시도'] == sido_name]\n",
    "    figure, (axes1,axes2) = plt.subplots(nrows=2, ncols=1)\n",
    "    figure.set_size_inches(18,12)\n",
    "    pop_plot = sns.barplot(x='행정구역', y='인구수', data=sido_df.sort_values(by='인구수',ascending=False), ax=axes1)\n",
    "    pop_plot.set_title(f'{sido_name} 행정구역별 인구수')\n",
    "    area_plot = sns.barplot(x='행정구역', y='면적', data=sido_df.sort_values(by='면적',ascending=False), ax=axes2)\n",
    "    area_plot.set_title(f'{sido_name} 행정구역별 면적')"
   ]
  },
  {
   "cell_type": "code",
   "execution_count": 130,
   "id": "166887c0-21d8-4f20-b180-907a18a1cbad",
   "metadata": {},
   "outputs": [
    {
     "data": {
      "image/png": "[encoded data removed]",
      "text/plain": [
       "<Figure size 1800x1200 with 2 Axes>"
      ]
     },
     "metadata": {},
     "output_type": "display_data"
    }
   ],
   "source": [
    "show_pop_area('경기도')"
   ]
  },
  {
   "cell_type": "code",
   "execution_count": 132,
   "id": "0a6c4ad5-70e1-4a5e-beed-416285bb9631",
   "metadata": {},
   "outputs": [
    {
     "data": {
      "image/png": "[encoded data removed]",
      "text/plain": [
       "<Figure size 1800x1200 with 2 Axes>"
      ]
     },
     "metadata": {},
     "output_type": "display_data"
    }
   ],
   "source": [
    "show_pop_area('강원도')"
   ]
  },
  {
   "cell_type": "code",
   "execution_count": 135,
   "id": "4825e246-f74a-4a58-ad5c-93078e799db7",
   "metadata": {},
   "outputs": [
    {
     "data": {
      "image/png": "[encoded data removed]",
      "text/plain": [
       "<Figure size 1800x1200 with 1 Axes>"
      ]
     },
     "metadata": {},
     "output_type": "display_data"
    }
   ],
   "source": [
    "figure, axes1 = plt.subplots(1,1)\n",
    "figure.set_size_inches(18,12)\n",
    "sns.barplot(x='광역시도', y='인구수', data=data, ax=axes1)\n"
   ]
  },
  {
   "cell_type": "code",
   "execution_count": 136,
   "id": "2806eca6-5b90-4978-ac88-525c90a5ee55",
   "metadata": {},
   "outputs": [
    {
     "data": {
      "text/plain": [
       "<Figure size 640x480 with 0 Axes>"
      ]
     },
     "metadata": {},
     "output_type": "display_data"
    }
   ],
   "source": [
    "# 바깥쪽 여백 제거\n",
    "figure.savefig('data/전국인구수.png', bbox_inches='tight')\n",
    "figure.savefig('data/전국인구수2.png')\n",
    "plt.savefig('data/전국인구수3.png', dpi=300, bbox_inches='tight')"
   ]
  },
  {
   "cell_type": "code",
   "execution_count": 142,
   "id": "1bc5c10a-21bd-490f-8164-98f33e191bc0",
   "metadata": {},
   "outputs": [
    {
     "name": "stdout",
     "output_type": "stream",
     "text": [
      "<class 'zip'>\n"
     ]
    },
    {
     "data": {
      "text/plain": [
       "<zip at 0x1c32af0a5c0>"
      ]
     },
     "execution_count": 142,
     "metadata": {},
     "output_type": "execute_result"
    }
   ],
   "source": [
    "print(type(seoul_df[\"인구수\"].items()))\n",
    "seoul_df[\"인구수\"].items()"
   ]
  },
  {
   "cell_type": "code",
   "execution_count": 139,
   "id": "ec644826-14de-44a6-aa24-10816dafeb5d",
   "metadata": {},
   "outputs": [
    {
     "name": "stdout",
     "output_type": "stream",
     "text": [
      "0 526157\n",
      "1 432028\n",
      "2 310292\n",
      "3 554709\n",
      "4 484478\n",
      "5 342909\n",
      "6 401233\n",
      "7 222566\n",
      "8 547202\n",
      "9 331682\n",
      "10 342429\n",
      "11 383917\n",
      "12 364232\n",
      "13 288543\n",
      "14 407416\n",
      "15 279939\n",
      "16 434061\n",
      "17 615487\n",
      "18 453634\n",
      "19 351837\n",
      "20 208603\n",
      "21 464236\n",
      "22 140595\n",
      "23 114967\n",
      "24 391655\n"
     ]
    }
   ],
   "source": [
    "for i, v in enumerate(seoul_df[\"인구수\"].items()):\n",
    "    print(i,v[1])"
   ]
  },
  {
   "cell_type": "code",
   "execution_count": 146,
   "id": "80bbeae0-c20a-486b-b769-6b0919ad0aae",
   "metadata": {},
   "outputs": [
    {
     "data": {
      "image/png": "[encoded data removed]",
      "text/plain": [
       "<Figure size 1800x1200 with 1 Axes>"
      ]
     },
     "metadata": {},
     "output_type": "display_data"
    }
   ],
   "source": [
    "figure, ax1 = plt.subplots(nrows=1, ncols=1)\n",
    "figure.set_size_inches(18,12)\n",
    "sns.barplot(data=seoul_df, x=\"행정구역\", y=\"인구수\", ax=ax1)\n",
    "#y축의 label값에 ,(콤마) 출력하기\n",
    "ax1.get_yaxis().set_major_formatter(plt.FuncFormatter(lambda x, loc: \"{:,}\".format(int(x))))\n",
    "#ax1.set(ylabel='인구수')\n",
    "\n",
    "for item in ax1.get_xticklabels(): \n",
    "    item.set_rotation(90)\n",
    "for i, v in enumerate(seoul_df[\"인구수\"].items()):\n",
    "    ax1.text(i ,v[1], \"{:,}\".format(v[1]), color='m', va ='bottom', rotation=45)\n",
    "plt.tight_layout()"
   ]
  }
 ],
 "metadata": {
  "kernelspec": {
   "display_name": "Python 3 (ipykernel)",
   "language": "python",
   "name": "python3"
  },
  "language_info": {
   "codemirror_mode": {
    "name": "ipython",
    "version": 3
   },
   "file_extension": ".py",
   "mimetype": "text/x-python",
   "name": "python",
   "nbconvert_exporter": "python",
   "pygments_lexer": "ipython3",
   "version": "3.10.9"
  }
 },
 "nbformat": 4,
 "nbformat_minor": 5
}
